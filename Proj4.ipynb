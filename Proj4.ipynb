{
  "nbformat": 4,
  "nbformat_minor": 0,
  "metadata": {
    "accelerator": "GPU",
    "colab": {
      "name": "Proj4.ipynb",
      "provenance": [],
      "collapsed_sections": []
    },
    "kernelspec": {
      "display_name": "Python 3",
      "language": "python",
      "name": "python3"
    },
    "language_info": {
      "codemirror_mode": {
        "name": "ipython",
        "version": 3
      },
      "file_extension": ".py",
      "mimetype": "text/x-python",
      "name": "python",
      "nbconvert_exporter": "python",
      "pygments_lexer": "ipython3",
      "version": "3.6.13"
    },
    "widgets": {
      "application/vnd.jupyter.widget-state+json": {
        "3c9080e92da74e2a981a35f913d2dfa1": {
          "model_module": "@jupyter-widgets/controls",
          "model_name": "HBoxModel",
          "state": {
            "_view_name": "HBoxView",
            "_dom_classes": [],
            "_model_name": "HBoxModel",
            "_view_module": "@jupyter-widgets/controls",
            "_model_module_version": "1.5.0",
            "_view_count": null,
            "_view_module_version": "1.5.0",
            "box_style": "",
            "layout": "IPY_MODEL_dd761c12432a4e4bad53404b287df534",
            "_model_module": "@jupyter-widgets/controls",
            "children": [
              "IPY_MODEL_a8cc3706ded144dbab8f556042efca3b",
              "IPY_MODEL_915c46a63e5a437fa1cb24a17bcb58a9"
            ]
          }
        },
        "dd761c12432a4e4bad53404b287df534": {
          "model_module": "@jupyter-widgets/base",
          "model_name": "LayoutModel",
          "state": {
            "_view_name": "LayoutView",
            "grid_template_rows": null,
            "right": null,
            "justify_content": null,
            "_view_module": "@jupyter-widgets/base",
            "overflow": null,
            "_model_module_version": "1.2.0",
            "_view_count": null,
            "flex_flow": null,
            "width": null,
            "min_width": null,
            "border": null,
            "align_items": null,
            "bottom": null,
            "_model_module": "@jupyter-widgets/base",
            "top": null,
            "grid_column": null,
            "overflow_y": null,
            "overflow_x": null,
            "grid_auto_flow": null,
            "grid_area": null,
            "grid_template_columns": null,
            "flex": null,
            "_model_name": "LayoutModel",
            "justify_items": null,
            "grid_row": null,
            "max_height": null,
            "align_content": null,
            "visibility": null,
            "align_self": null,
            "height": null,
            "min_height": null,
            "padding": null,
            "grid_auto_rows": null,
            "grid_gap": null,
            "max_width": null,
            "order": null,
            "_view_module_version": "1.2.0",
            "grid_template_areas": null,
            "object_position": null,
            "object_fit": null,
            "grid_auto_columns": null,
            "margin": null,
            "display": null,
            "left": null
          }
        },
        "a8cc3706ded144dbab8f556042efca3b": {
          "model_module": "@jupyter-widgets/controls",
          "model_name": "FloatProgressModel",
          "state": {
            "_view_name": "ProgressView",
            "style": "IPY_MODEL_27f829d356d5471394ba38806d324686",
            "_dom_classes": [],
            "description": "",
            "_model_name": "FloatProgressModel",
            "bar_style": "success",
            "max": 170498071,
            "_view_module": "@jupyter-widgets/controls",
            "_model_module_version": "1.5.0",
            "value": 170498071,
            "_view_count": null,
            "_view_module_version": "1.5.0",
            "orientation": "horizontal",
            "min": 0,
            "description_tooltip": null,
            "_model_module": "@jupyter-widgets/controls",
            "layout": "IPY_MODEL_09863cdebe494267b342ba85640bebfd"
          }
        },
        "915c46a63e5a437fa1cb24a17bcb58a9": {
          "model_module": "@jupyter-widgets/controls",
          "model_name": "HTMLModel",
          "state": {
            "_view_name": "HTMLView",
            "style": "IPY_MODEL_a77bce7b4c4e462293c0c0d0133d611a",
            "_dom_classes": [],
            "description": "",
            "_model_name": "HTMLModel",
            "placeholder": "​",
            "_view_module": "@jupyter-widgets/controls",
            "_model_module_version": "1.5.0",
            "value": " 170499072/? [00:42&lt;00:00, 3990331.20it/s]",
            "_view_count": null,
            "_view_module_version": "1.5.0",
            "description_tooltip": null,
            "_model_module": "@jupyter-widgets/controls",
            "layout": "IPY_MODEL_29c60ebb6d2e42f980024c74155a8801"
          }
        },
        "27f829d356d5471394ba38806d324686": {
          "model_module": "@jupyter-widgets/controls",
          "model_name": "ProgressStyleModel",
          "state": {
            "_view_name": "StyleView",
            "_model_name": "ProgressStyleModel",
            "description_width": "initial",
            "_view_module": "@jupyter-widgets/base",
            "_model_module_version": "1.5.0",
            "_view_count": null,
            "_view_module_version": "1.2.0",
            "bar_color": null,
            "_model_module": "@jupyter-widgets/controls"
          }
        },
        "09863cdebe494267b342ba85640bebfd": {
          "model_module": "@jupyter-widgets/base",
          "model_name": "LayoutModel",
          "state": {
            "_view_name": "LayoutView",
            "grid_template_rows": null,
            "right": null,
            "justify_content": null,
            "_view_module": "@jupyter-widgets/base",
            "overflow": null,
            "_model_module_version": "1.2.0",
            "_view_count": null,
            "flex_flow": null,
            "width": null,
            "min_width": null,
            "border": null,
            "align_items": null,
            "bottom": null,
            "_model_module": "@jupyter-widgets/base",
            "top": null,
            "grid_column": null,
            "overflow_y": null,
            "overflow_x": null,
            "grid_auto_flow": null,
            "grid_area": null,
            "grid_template_columns": null,
            "flex": null,
            "_model_name": "LayoutModel",
            "justify_items": null,
            "grid_row": null,
            "max_height": null,
            "align_content": null,
            "visibility": null,
            "align_self": null,
            "height": null,
            "min_height": null,
            "padding": null,
            "grid_auto_rows": null,
            "grid_gap": null,
            "max_width": null,
            "order": null,
            "_view_module_version": "1.2.0",
            "grid_template_areas": null,
            "object_position": null,
            "object_fit": null,
            "grid_auto_columns": null,
            "margin": null,
            "display": null,
            "left": null
          }
        },
        "a77bce7b4c4e462293c0c0d0133d611a": {
          "model_module": "@jupyter-widgets/controls",
          "model_name": "DescriptionStyleModel",
          "state": {
            "_view_name": "StyleView",
            "_model_name": "DescriptionStyleModel",
            "description_width": "",
            "_view_module": "@jupyter-widgets/base",
            "_model_module_version": "1.5.0",
            "_view_count": null,
            "_view_module_version": "1.2.0",
            "_model_module": "@jupyter-widgets/controls"
          }
        },
        "29c60ebb6d2e42f980024c74155a8801": {
          "model_module": "@jupyter-widgets/base",
          "model_name": "LayoutModel",
          "state": {
            "_view_name": "LayoutView",
            "grid_template_rows": null,
            "right": null,
            "justify_content": null,
            "_view_module": "@jupyter-widgets/base",
            "overflow": null,
            "_model_module_version": "1.2.0",
            "_view_count": null,
            "flex_flow": null,
            "width": null,
            "min_width": null,
            "border": null,
            "align_items": null,
            "bottom": null,
            "_model_module": "@jupyter-widgets/base",
            "top": null,
            "grid_column": null,
            "overflow_y": null,
            "overflow_x": null,
            "grid_auto_flow": null,
            "grid_area": null,
            "grid_template_columns": null,
            "flex": null,
            "_model_name": "LayoutModel",
            "justify_items": null,
            "grid_row": null,
            "max_height": null,
            "align_content": null,
            "visibility": null,
            "align_self": null,
            "height": null,
            "min_height": null,
            "padding": null,
            "grid_auto_rows": null,
            "grid_gap": null,
            "max_width": null,
            "order": null,
            "_view_module_version": "1.2.0",
            "grid_template_areas": null,
            "object_position": null,
            "object_fit": null,
            "grid_auto_columns": null,
            "margin": null,
            "display": null,
            "left": null
          }
        }
      }
    }
  },
  "cells": [
    {
      "cell_type": "markdown",
      "metadata": {
        "id": "TfZoSVGoIAFX"
      },
      "source": [
        "# CSCI 360 Project 4: Machine Learning\n",
        "## Date Due: 11:59 PM 4/30/2021"
      ]
    },
    {
      "cell_type": "markdown",
      "metadata": {
        "id": "fpmNtjL2IAFf"
      },
      "source": [
        "###### Name: \n",
        "###### Student ID: "
      ]
    },
    {
      "cell_type": "markdown",
      "metadata": {
        "id": "VuGbMjEe3mGg"
      },
      "source": [
        "Welcome to Google Colab and the Anaconda distribution. In this project, you will work with different datasets and technologies to simulate the data science pipeline and help teach machine learning algorithms. The project is broken into 4 distinct parts, each which do not overlap and do not require previous parts to be done. The first part focuses on the K-nearest neighbors algorithm, which is built completely from numpy alone: this algorithm is run on the iris dataset from UCI's ML repository. The second part focuses on ensembles as a way to learn practical applications of concepts learned in class such as Linear Perceptrons, Neural Networks, Decision Trees, and other machine learning algorithms. You will build 3 different ensembles using the SKlearn package, run against the breast cancer dataset from UCI's ML repository. The third part focuses on Convolutional Neural Networks built from Pytorch: you will build a nn.Sequential model run against the Cifar-10 dataset for image classification. This portion briefly touches on the concepts of neural networks and showcases recent technologies directed towards the intersection of Computer Vision and Machine Learning. The fourth part focuses on Recurrent Neural Networks again built from Pytorch. This time, you will build the neural network through a nn.Module class and run it against the AG News dataset for text classification. This part exemplifies on neural networks and natural language processing."
      ]
    },
    {
      "cell_type": "markdown",
      "metadata": {
        "id": "E5dfX1M13mGg"
      },
      "source": [
        "You may notice that we are running everything via Google Colab. Why not download and run everything on Anaconda distribution and do the project locally? The problem with doing so is that your graphics card may not be as good for parts 3 and 4. With Google Colab, we can set the runtime environment (using the Runtime -> Change Runtime Type setting above) which will significantly increase the speed of training our machine learning models. Set the runtime to GPU in order to fully utilize Google Colab. We use Google's Tesla K80 GPU, which is significantly more powerful than your integrated graphics cards on your laptops or desktops. Google Colab also already comes with all packages involved in this project, including Pytorch and Sklearn, saving the headache that is installation of Anaconda and the packages involved."
      ]
    },
    {
      "cell_type": "markdown",
      "metadata": {
        "id": "vqan-eRCIAFf"
      },
      "source": [
        "### Initial setup"
      ]
    },
    {
      "cell_type": "markdown",
      "metadata": {
        "id": "E42E1VlR3mGi"
      },
      "source": [
        "These few codeblocks are here to simply important necessary packages for the entire project. Numpy and Matplotlib are staples of the data science pipeline."
      ]
    },
    {
      "cell_type": "code",
      "metadata": {
        "id": "H-ZwP7D7IAFg"
      },
      "source": [
        "import numpy as np\n",
        "import matplotlib.pyplot as plt\n",
        "%matplotlib inline"
      ],
      "execution_count": 5,
      "outputs": []
    },
    {
      "cell_type": "markdown",
      "metadata": {
        "id": "UaU16KOQ3mGi"
      },
      "source": [
        "Below is the importing of the iris dataset. Make sure the google drive and folder is set properly in order to make sure the project works on your Google Colab setup and you can pull the dataset properly. Do copy and paste the authorization code to give access of your Google Drive to Google Colab. "
      ]
    },
    {
      "cell_type": "markdown",
      "metadata": {
        "id": "JXpXMYuQ3mGj"
      },
      "source": [
        "The Iris dataset is a toy dataset with 150 data points, each with 4 features and a class. The data is holds the following features:\n",
        "\n",
        "1. sepal length in cm\n",
        "2. sepal width in cm\n",
        "3. petal length in cm\n",
        "4. petal width in cm\n",
        "5. class: Iris Setosa (0.0), Iris Versicolour (1.0), Iris Virginica (2.0)"
      ]
    },
    {
      "cell_type": "code",
      "metadata": {
        "colab": {
          "base_uri": "https://localhost:8080/"
        },
        "id": "NwebkJgoIAFh",
        "outputId": "b3053eb5-7a65-4d13-e118-9ce43b93d60a"
      },
      "source": [
        "try:\n",
        "    from google.colab import drive\n",
        "    drive.mount(\"/content/drive\")\n",
        "    iris = np.genfromtxt(\"/content/drive/My Drive/CSCI360_Project4/datasets/iris-dataset/iris.data\", delimiter=\",\", dtype=None)\n",
        "except:\n",
        "    iris = np.genfromtxt(\"./datasets/iris-dataset/iris.data\", delimiter=\",\", dtype=None)\n",
        "X = iris[:,0:-1] #features are the other columns\n",
        "Y = iris[:,-1] #target value (iris specimen) is last column\n",
        "print(X.shape)\n",
        "print(Y.shape)"
      ],
      "execution_count": null,
      "outputs": [
        {
          "output_type": "stream",
          "text": [
            "Drive already mounted at /content/drive; to attempt to forcibly remount, call drive.mount(\"/content/drive\", force_remount=True).\n",
            "(150, 4)\n",
            "(150,)\n"
          ],
          "name": "stdout"
        }
      ]
    },
    {
      "cell_type": "markdown",
      "metadata": {
        "id": "X1G1Hb9k3mGj"
      },
      "source": [
        "Generally it is better to do a train, validation, and test dataset. Evaluation generally increases that way. However, for the purposes of this particular question, we only split the data into a training and testing set that isn't randomized.\n",
        "\n",
        "Also shown below are a couple of plots showing the relations between the first and second features based on class. "
      ]
    },
    {
      "cell_type": "code",
      "metadata": {
        "colab": {
          "base_uri": "https://localhost:8080/",
          "height": 587
        },
        "id": "iWVB3ky23FEk",
        "outputId": "19386039-f340-42bc-a4e3-c296cc1c87de"
      },
      "source": [
        "def split_data(features, targets):\n",
        "  x_dim, y_dim = np.atleast_2d(features).shape\n",
        "  splitting_point = int(round(0.75 * x_dim)) #75% of the data\n",
        "  X_train, X_test = features[:splitting_point,:],features[splitting_point:,:]\n",
        "  Y = np.asarray(targets).flatten()\n",
        "  Y_train, Y_test = Y[:splitting_point],Y[splitting_point:]\n",
        "  return X_train, Y_train, X_test, Y_test\n",
        "\n",
        "#Normally, good practice is to randomize and crossvalidate the data, but for grading purposes, don't do it.\n",
        "np.random.seed(0) #do not change this line\n",
        "X_train, Y_train, X_test, Y_test = split_data(X, Y)\n",
        "print(X_test.shape)\n",
        "print(X_train.shape)\n",
        "print(Y_test.shape)\n",
        "print(Y_train.shape)\n",
        "plt.scatter(x=X_train[:,0:1], y=X_train[:,1:2], c=Y_train.reshape(X_train[:,0:1].shape))\n",
        "plt.show()\n",
        "plt.scatter(x=X_test[:,0:1], y=X_test[:,1:2], c=Y_test.reshape(X_test[:,0:1].shape))\n",
        "plt.show()"
      ],
      "execution_count": null,
      "outputs": [
        {
          "output_type": "stream",
          "text": [
            "(38, 4)\n",
            "(112, 4)\n",
            "(38,)\n",
            "(112,)\n"
          ],
          "name": "stdout"
        },
        {
          "output_type": "display_data",
          "data": {
            "image/png": "[encoded data removed]",
            "text/plain": [
              "<Figure size 432x288 with 1 Axes>"
            ]
          },
          "metadata": {
            "tags": [],
            "needs_background": "light"
          }
        },
        {
          "output_type": "display_data",
          "data": {
            "image/png": "[encoded data removed]",
            "text/plain": [
              "<Figure size 432x288 with 1 Axes>"
            ]
          },
          "metadata": {
            "tags": [],
            "needs_background": "light"
          }
        }
      ]
    },
    {
      "cell_type": "markdown",
      "metadata": {
        "id": "W6mQxj7TIAFi"
      },
      "source": [
        "## Question 1) k-Nearest Neighbors - 5 Points"
      ]
    },
    {
      "cell_type": "markdown",
      "metadata": {
        "id": "r8k0NBho3mGl"
      },
      "source": [
        "In this section, you will create a key portion to a kNN classifier, the prediction function from scratch without using sklearn or other packages besides numpy. Do **NOT** import additional packages."
      ]
    },
    {
      "cell_type": "markdown",
      "metadata": {
        "id": "-ENq1AOB3mGl"
      },
      "source": [
        "After the initial blocks, the data preprocessing is done. The basic layout of the kNN class is done below; the only thing to figure out is the prediction function. The prediction function should follow a general algorithm:\n",
        "\n",
        "```\n",
        "For each datapoint in the test data:\n",
        "    Calculate the distance between training and testing data using self.distance\n",
        "    Sort the distances by the K nearest neighbors (self.K, the given parameter)\n",
        "    Calculate the class per datapoint through the neighbors found\n",
        "Return a set of predicted classes per datapoint in the test data\n",
        "```"
      ]
    },
    {
      "cell_type": "code",
      "metadata": {
        "id": "xyqzMJ-FIAFj"
      },
      "source": [
        "class kNN_classifier:\n",
        "    def __init__(self, X, Y, K=1):\n",
        "        self.train(X, Y, K)\n",
        "\n",
        "    def train(self, X, Y, K=1):\n",
        "        self.X = np.asarray(X)\n",
        "        self.Y = np.asarray(Y)\n",
        "        self.K = K\n",
        "        self.classes = np.unique(Y)\n",
        "\n",
        "    def predict(self, Xtest):\n",
        "        '''Implement this function'''\n",
        "        y_pred = []\n",
        "        for x in Xtest:\n",
        "          distance_list = self.distance(x, X_train)\n",
        "          distance_index = distance_list.argsort()\n",
        "          k_distance = distance_index[:self.K]\n",
        "          y_train = np.asarray(Y_train)\n",
        "          k_class = Y_train[k_distance]\n",
        "          values, counts = np.unique(k_class, return_counts=True)\n",
        "          x_class = values[np.argmax(counts)]\n",
        "          y_pred.append(x_class)\n",
        "        return y_pred\n",
        "        #pass\n",
        "\n",
        "    def evaluate(self, Ypred, Ytest):\n",
        "        accuracy = 0\n",
        "        for predicted, true_val in zip(Ypred, Ytest):\n",
        "            if predicted == true_val:\n",
        "                accuracy += 1\n",
        "        return accuracy / Ytest.shape[0]\n",
        "  \n",
        "    def distance(self, X, Y):\n",
        "        return np.sqrt(np.sum((X-Y)**2, axis=1))"
      ],
      "execution_count": null,
      "outputs": []
    },
    {
      "cell_type": "markdown",
      "metadata": {
        "id": "TzvTGY0z3mGm"
      },
      "source": [
        "Evaluation function below copied, as we will use this later on separately in both parts 1 and 2"
      ]
    },
    {
      "cell_type": "code",
      "metadata": {
        "id": "rjnpT1Nr3mGm"
      },
      "source": [
        "def evaluate(Ypred, Ytest):\n",
        "    accuracy = 0\n",
        "    for predicted, true_val in zip(Ypred, Ytest):\n",
        "        if predicted == true_val:\n",
        "            accuracy += 1\n",
        "    return accuracy / Ytest.shape[0]"
      ],
      "execution_count": null,
      "outputs": []
    },
    {
      "cell_type": "markdown",
      "metadata": {
        "id": "v3DykfeS3mGn"
      },
      "source": [
        "Run some general test cases with your kNN classifier below. You can compare your results to the SKlearn implementation of kNN (which does not have to be exact, but needs to be relatively close). Since the dataset is small, the kNN results should slowly become worse and worse on this particular dataset with more neighbors. Optimally, you do something called parameter tuning by finding a parameter with decent training and validation accuracy that gets the best possible testing accuracy every time. Therefore you want to avoid overfitting or underfitting to the data (e.g. K=1 is probably overfitting, and K=50 is probably underfitting)."
      ]
    },
    {
      "cell_type": "code",
      "metadata": {
        "id": "OO279uxBfWlT",
        "colab": {
          "base_uri": "https://localhost:8080/"
        },
        "outputId": "dba2edfd-4706-449d-a7c2-30313d99f2aa"
      },
      "source": [
        "kNN = kNN_classifier(X_train, Y_train, 1)\n",
        "pred = kNN.predict(X_test)\n",
        "eval_results = kNN.evaluate(pred, Y_test)\n",
        "print(eval_results)\n",
        "assert eval_results == 1.0\n",
        "\n",
        "kNN = kNN_classifier(X_train, Y_train, 5)\n",
        "pred = kNN.predict(X_test)\n",
        "eval_results = kNN.evaluate(pred, Y_test)\n",
        "print(eval_results)\n",
        "assert eval_results >= 0.97\n",
        "\n",
        "kNN = kNN_classifier(X_train, Y_train, 10)\n",
        "pred = kNN.predict(X_test)\n",
        "eval_results = kNN.evaluate(pred, Y_test)\n",
        "print(eval_results)\n",
        "assert eval_results >= 0.90\n",
        "\n",
        "kNN = kNN_classifier(X_train, Y_train, 35)\n",
        "pred = kNN.predict(X_test)\n",
        "eval_results = kNN.evaluate(pred, Y_test)\n",
        "print(eval_results)\n",
        "assert eval_results >= 0.85\n",
        "\n",
        "kNN = kNN_classifier(X_train, Y_train, 50)\n",
        "pred = kNN.predict(X_test)\n",
        "eval_results = kNN.evaluate(pred, Y_test)\n",
        "print(eval_results)\n",
        "assert eval_results >= 0.5"
      ],
      "execution_count": null,
      "outputs": [
        {
          "output_type": "stream",
          "text": [
            "1.0\n",
            "1.0\n",
            "0.9736842105263158\n",
            "0.9736842105263158\n",
            "0.868421052631579\n"
          ],
          "name": "stdout"
        }
      ]
    },
    {
      "cell_type": "markdown",
      "metadata": {
        "id": "YLDN5qib3mGo"
      },
      "source": [
        "Compare your results to the K-nearest neighbors implementation from the sklearn package. The results do not need to be exact, but it can be a decent starting point."
      ]
    },
    {
      "cell_type": "markdown",
      "metadata": {
        "id": "YDdrosYe3mGo"
      },
      "source": [
        "By the way, a side note about sklearn: you can find documentation here (more importantly used in part 2). https://scikit-learn.org/stable/user_guide.html"
      ]
    },
    {
      "cell_type": "code",
      "metadata": {
        "id": "aN7AnuoYOnVb",
        "colab": {
          "base_uri": "https://localhost:8080/"
        },
        "outputId": "12941ee5-800e-4a05-9f85-656a8b6ecdb0"
      },
      "source": [
        "from sklearn import neighbors\n",
        "\n",
        "skkNN = neighbors.KNeighborsClassifier(n_neighbors=1)\n",
        "skkNN_fit = skkNN.fit(X_train, Y_train)\n",
        "skkNN_pred = skkNN.predict(X_test)\n",
        "eval_results = evaluate(skkNN_pred, Y_test)\n",
        "print(eval_results)\n",
        "\n",
        "skkNN = neighbors.KNeighborsClassifier(n_neighbors=5)\n",
        "skkNN_fit = skkNN.fit(X_train, Y_train)\n",
        "skkNN_pred = skkNN.predict(X_test)\n",
        "eval_results = evaluate(skkNN_pred, Y_test)\n",
        "print(eval_results)\n",
        "\n",
        "skkNN = neighbors.KNeighborsClassifier(n_neighbors=10)\n",
        "skkNN_fit = skkNN.fit(X_train, Y_train)\n",
        "skkNN_pred = skkNN.predict(X_test)\n",
        "eval_results = evaluate(skkNN_pred, Y_test)\n",
        "print(eval_results)\n",
        "\n",
        "skkNN = neighbors.KNeighborsClassifier(n_neighbors=35)\n",
        "skkNN_fit = skkNN.fit(X_train, Y_train)\n",
        "skkNN_pred = skkNN.predict(X_test)\n",
        "eval_results = evaluate(skkNN_pred, Y_test)\n",
        "print(eval_results)\n",
        "\n",
        "skkNN = neighbors.KNeighborsClassifier(n_neighbors=50)\n",
        "skkNN_fit = skkNN.fit(X_train, Y_train)\n",
        "skkNN_pred = skkNN.predict(X_test)\n",
        "eval_results = evaluate(skkNN_pred, Y_test)\n",
        "print(eval_results)"
      ],
      "execution_count": null,
      "outputs": [
        {
          "output_type": "stream",
          "text": [
            "1.0\n",
            "1.0\n",
            "0.9736842105263158\n",
            "0.9736842105263158\n",
            "0.868421052631579\n"
          ],
          "name": "stdout"
        }
      ]
    },
    {
      "cell_type": "code",
      "metadata": {
        "deletable": false,
        "editable": false,
        "nbgrader": {
          "cell_type": "code",
          "checksum": "198789f00350b55a7d43d1bebc5ea2e0",
          "grade": true,
          "grade_id": "589jyi34h",
          "locked": true,
          "points": 1,
          "schema_version": 3,
          "solution": false,
          "task": false
        },
        "id": "SG0u-F9s3mGp"
      },
      "source": [
        ""
      ],
      "execution_count": null,
      "outputs": []
    },
    {
      "cell_type": "code",
      "metadata": {
        "deletable": false,
        "editable": false,
        "nbgrader": {
          "cell_type": "code",
          "checksum": "ea74f97d397a0b730f9570e396145e2a",
          "grade": true,
          "grade_id": "bhjritu46890mno5",
          "locked": true,
          "points": 1,
          "schema_version": 3,
          "solution": false,
          "task": false
        },
        "id": "_yJ53aC13mGp"
      },
      "source": [
        ""
      ],
      "execution_count": null,
      "outputs": []
    },
    {
      "cell_type": "code",
      "metadata": {
        "deletable": false,
        "editable": false,
        "nbgrader": {
          "cell_type": "code",
          "checksum": "c42fa3585d54ff48aefdd302aac3dc1d",
          "grade": true,
          "grade_id": "0459rt6jkiuwoe",
          "locked": true,
          "points": 1,
          "schema_version": 3,
          "solution": false,
          "task": false
        },
        "id": "1MkQS5g03mGp"
      },
      "source": [
        ""
      ],
      "execution_count": null,
      "outputs": []
    },
    {
      "cell_type": "code",
      "metadata": {
        "deletable": false,
        "editable": false,
        "nbgrader": {
          "cell_type": "code",
          "checksum": "5ea81a50c15235278a2116dc822f1164",
          "grade": true,
          "grade_id": "40jw8i6bhet",
          "locked": true,
          "points": 1,
          "schema_version": 3,
          "solution": false,
          "task": false
        },
        "id": "9WJz4XzY3mGq"
      },
      "source": [
        ""
      ],
      "execution_count": null,
      "outputs": []
    },
    {
      "cell_type": "code",
      "metadata": {
        "deletable": false,
        "editable": false,
        "nbgrader": {
          "cell_type": "code",
          "checksum": "d14587c435a50f01463631b12e31737a",
          "grade": true,
          "grade_id": "4890jweihsbm0e",
          "locked": true,
          "points": 1,
          "schema_version": 3,
          "solution": false,
          "task": false
        },
        "id": "jv5eZFu53mGq"
      },
      "source": [
        ""
      ],
      "execution_count": null,
      "outputs": []
    },
    {
      "cell_type": "markdown",
      "metadata": {
        "id": "ulOwwGw8IAFj"
      },
      "source": [
        "## Question 2) Ensemble Learning - 6 Points"
      ]
    },
    {
      "cell_type": "markdown",
      "metadata": {
        "id": "rkLLN3Fu3mGq"
      },
      "source": [
        "In this section, you will create 3 different ensembles to simulate ensemble learning. The topic at hand is a bit different from what you have learned within lecture, but is a good way to practice and see the concepts learned within lecture in a \"grab-bag\" format: you have learned different concepts such as linear perceptrons, naive bayes, and neural networks, now you can put these to use through sklearn's packages without having to manually build them up from scratch. You can then pull different implementations, parameters, and classifiers to run against the breast cancer dataset."
      ]
    },
    {
      "cell_type": "markdown",
      "metadata": {
        "id": "pWi80rPv3mGq"
      },
      "source": [
        "The concept of an ensemble in machine learning is to take multiple machine learning algorithms and combine them to make a stronger model together. For example, a linear perceptron is not strong enough alone on a dataset, only leading to mediocre accuracy. However, combining the linear perceptron with a decision tree will make the accuracy significantly better. That is the power of an ensemble classifier, and in essence this part (and this project) is an ensemble of different methods used in Machine Learning."
      ]
    },
    {
      "cell_type": "markdown",
      "metadata": {
        "id": "p8ConhkE3mGq"
      },
      "source": [
        "Below is again another data preprocessing block. This time there are 9 features and significantly more data. \n",
        "\n",
        "0. (Ignore the very first feature, as this is just id numbers)\n",
        "1. Clump Thickness: 1 - 10\n",
        "2. Uniformity of Cell Size: 1 - 10\n",
        "3. Uniformity of Cell Shape: 1 - 10\n",
        "4. Marginal Adhesion: 1 - 10\n",
        "5. Single Epithelial Cell Size: 1 - 10\n",
        "6. Bare Nuclei: 1 - 10\n",
        "7. Bland Chromatin: 1 - 10\n",
        "8. Normal Nucleoli: 1 - 10\n",
        "9. Mitoses: 1 - 10\n",
        "10. Class: (2.0 for benign, 4.0 for malignant)"
      ]
    },
    {
      "cell_type": "code",
      "metadata": {
        "id": "uiPwuDmLIAFk",
        "colab": {
          "base_uri": "https://localhost:8080/"
        },
        "outputId": "6cfffd7d-5760-46b4-d6f9-926285678bbb"
      },
      "source": [
        "try:\n",
        "    from google.colab import drive\n",
        "    drive.mount(\"/content/drive\")\n",
        "    breast_cancer = np.genfromtxt(\"/content/drive/My Drive/CSCI360_Project4/datasets/breast-cancer-dataset/breast-cancer-wisconsin.data\", delimiter=\",\", dtype=np.float64)\n",
        "except:\n",
        "    breast_cancer = np.genfromtxt(\"./datasets/breast-cancer-dataset/breast-cancer-wisconsin.data\", delimiter=\",\", dtype=np.float64)\n",
        "X = breast_cancer[:,1:-1] #features are the other columns\n",
        "Y = breast_cancer[:,-1] #target value (iris specimen) is last column\n",
        "X = np.nan_to_num(X)\n",
        "Y = np.nan_to_num(Y)\n",
        "print(X.shape)\n",
        "print(Y.shape)\n",
        "\n",
        "np.random.seed(0)\n",
        "np.random.shuffle(X)\n",
        "X_train, Y_train, X_test, Y_test = split_data(X, Y)\n",
        "print(X_test.shape)\n",
        "print(X_train.shape)\n",
        "print(Y_test.shape)\n",
        "print(Y_train.shape)"
      ],
      "execution_count": null,
      "outputs": [
        {
          "output_type": "stream",
          "text": [
            "Drive already mounted at /content/drive; to attempt to forcibly remount, call drive.mount(\"/content/drive\", force_remount=True).\n",
            "(699, 9)\n",
            "(699,)\n",
            "(175, 9)\n",
            "(524, 9)\n",
            "(175,)\n",
            "(524,)\n"
          ],
          "name": "stdout"
        }
      ]
    },
    {
      "cell_type": "markdown",
      "metadata": {
        "id": "bqI6Kfm43mGr"
      },
      "source": [
        "Evaluation function below copied, as we will use this later on separately in both parts 1 and 2"
      ]
    },
    {
      "cell_type": "code",
      "metadata": {
        "id": "9Q9QPGxh3mGs"
      },
      "source": [
        "def evaluate(Ypred, Ytest):\n",
        "    accuracy = 0\n",
        "    for predicted, true_val in zip(Ypred, Ytest):\n",
        "        if predicted == true_val:\n",
        "            accuracy += 1\n",
        "    return accuracy / Ytest.shape[0]"
      ],
      "execution_count": null,
      "outputs": []
    },
    {
      "cell_type": "markdown",
      "metadata": {
        "id": "-_4IL9dO3mGs"
      },
      "source": [
        "Below are some samples and showing of how an ensemble classifier can increase performance. A standard kNN classifier from the sklearn package cannot break 60% accuracy, but with an ensemble combined with a decision tree, the classifier can break 60% accuracy. Feel free to use the simple ensemble as an example of what you should implement for the 3 ensembles."
      ]
    },
    {
      "cell_type": "code",
      "metadata": {
        "id": "1CpUW4e6-5LS",
        "colab": {
          "base_uri": "https://localhost:8080/"
        },
        "outputId": "f6dd781b-e72b-4687-e5df-7813969f422b"
      },
      "source": [
        "from sklearn.ensemble import VotingClassifier\n",
        "from sklearn.neighbors import KNeighborsClassifier\n",
        "from sklearn.tree import DecisionTreeClassifier\n",
        "\n",
        "skkNN = KNeighborsClassifier(n_neighbors=5)\n",
        "skkNN_fit = skkNN.fit(X_train, Y_train)\n",
        "skkNN_pred = skkNN.predict(X_test)\n",
        "eval_results = evaluate(skkNN_pred, Y_test)\n",
        "print(eval_results)\n",
        "\n",
        "simpleEnsemble = VotingClassifier(estimators=[('knn', KNeighborsClassifier(n_neighbors=5)), ('dt', DecisionTreeClassifier(max_depth=5))], voting='soft', weights=[1, 1])\n",
        "simpleEnsemble_fit = simpleEnsemble.fit(X_train, Y_train)\n",
        "simpleEnsemble_pred = simpleEnsemble.predict(X_test)\n",
        "eval_results = evaluate(simpleEnsemble_pred, Y_test)\n",
        "print(eval_results)"
      ],
      "execution_count": null,
      "outputs": [
        {
          "output_type": "stream",
          "text": [
            "0.5942857142857143\n",
            "0.6171428571428571\n"
          ],
          "name": "stdout"
        }
      ]
    },
    {
      "cell_type": "markdown",
      "metadata": {
        "id": "aL4AsVVo3mGt"
      },
      "source": [
        "Use some creativity to create 3 different ensembles to break 62% accuracy. Each ensemble classifier should utilize different classifiers from sklearn and/or parameters. The limiting factor here is that you may only use sklearn modules. Using other modules may crash the autograder, hence only use sklearn modules here."
      ]
    },
    {
      "cell_type": "markdown",
      "metadata": {
        "id": "ABewwNIp3mGt"
      },
      "source": [
        "By the way, a side note about sklearn: you can find documentation here. https://scikit-learn.org/stable/user_guide.html\n",
        "\n",
        "This is where you can read through the documentation of important pieces of the code and look through tutorials on how to build ensembles with sklearn."
      ]
    },
    {
      "cell_type": "code",
      "metadata": {
        "id": "_b3W-bt_MMLN"
      },
      "source": [
        "import sklearn\n",
        "from sklearn.ensemble import VotingClassifier\n",
        "from sklearn.neighbors import KNeighborsClassifier\n",
        "from sklearn.tree import DecisionTreeClassifier\n",
        "from sklearn.linear_model import LogisticRegression\n",
        "from sklearn.naive_bayes import GaussianNB\n",
        "from sklearn.ensemble import RandomForestClassifier\n",
        "'''Import all necessary sklearn packages- only use sklearn modules.'''\n",
        "\n",
        "def ensemble_ver_A():\n",
        "    '''Implement this function'''\n",
        "    return VotingClassifier(estimators=[('lr', LogisticRegression(random_state=1)), ('rf', RandomForestClassifier(n_estimators=50, random_state=1)), ('gnb', GaussianNB())], voting='hard')\n",
        "    #pass\n",
        "\n",
        "def ensemble_ver_B():\n",
        "    '''Implement this function'''\n",
        "    return VotingClassifier(estimators=[('lr', LogisticRegression(random_state=1)), ('dt', DecisionTreeClassifier(max_depth=5)), ('gnb', GaussianNB())], voting='soft')\n",
        "    #pass\n",
        "\n",
        "def ensemble_ver_C():\n",
        "    '''Implement this function'''\n",
        "    return VotingClassifier(estimators=[('knn', KNeighborsClassifier(n_neighbors=5)), ('dt', DecisionTreeClassifier(max_depth=5)), ('gnb', GaussianNB())], voting='soft')\n",
        "    #pass"
      ],
      "execution_count": null,
      "outputs": []
    },
    {
      "cell_type": "markdown",
      "metadata": {
        "id": "I3VUXGcs3mGu"
      },
      "source": [
        "Test the results of each ensemble you built below."
      ]
    },
    {
      "cell_type": "code",
      "metadata": {
        "id": "sjg6Ug_f3mGu",
        "colab": {
          "base_uri": "https://localhost:8080/"
        },
        "outputId": "0f6cfd63-8f94-4fc1-faa4-7c17b999a2ad"
      },
      "source": [
        "ensemble_A = ensemble_ver_A()\n",
        "ensemble_A_fit = ensemble_A.fit(X_train, Y_train)\n",
        "ensemble_A_pred = ensemble_A.predict(X_test)\n",
        "eval_results = evaluate(ensemble_A_pred, Y_test)\n",
        "print(eval_results)\n",
        "assert eval_results >= 0.62\n",
        "\n",
        "ensemble_B = ensemble_ver_B()\n",
        "ensemble_B_fit = ensemble_B.fit(X_train, Y_train)\n",
        "ensemble_B_pred = ensemble_B.predict(X_test)\n",
        "eval_results = evaluate(ensemble_B_pred, Y_test)\n",
        "print(eval_results)\n",
        "assert eval_results >= 0.62\n",
        "\n",
        "ensemble_C = ensemble_ver_C()\n",
        "ensemble_C_fit = ensemble_C.fit(X_train, Y_train)\n",
        "ensemble_C_pred = ensemble_C.predict(X_test)\n",
        "eval_results = evaluate(ensemble_C_pred, Y_test)\n",
        "print(eval_results)\n",
        "assert eval_results >= 0.62"
      ],
      "execution_count": null,
      "outputs": [
        {
          "output_type": "stream",
          "text": [
            "0.7657142857142857\n",
            "0.7314285714285714\n",
            "0.7028571428571428\n"
          ],
          "name": "stdout"
        }
      ]
    },
    {
      "cell_type": "code",
      "metadata": {
        "deletable": false,
        "editable": false,
        "nbgrader": {
          "cell_type": "code",
          "checksum": "4558c2356f66e7986e2fc62dc4170e0e",
          "grade": true,
          "grade_id": "9nhei3oru4tb5",
          "locked": true,
          "points": 2,
          "schema_version": 3,
          "solution": false,
          "task": false
        },
        "id": "iFmST-hk3mGu"
      },
      "source": [
        ""
      ],
      "execution_count": null,
      "outputs": []
    },
    {
      "cell_type": "code",
      "metadata": {
        "deletable": false,
        "editable": false,
        "nbgrader": {
          "cell_type": "code",
          "checksum": "a8e8c8a0ee8a1b1050cfb1b6269842e4",
          "grade": true,
          "grade_id": "930hqneor5rjhuwy6",
          "locked": true,
          "points": 2,
          "schema_version": 3,
          "solution": false,
          "task": false
        },
        "id": "sijIG_9T3mGu"
      },
      "source": [
        ""
      ],
      "execution_count": null,
      "outputs": []
    },
    {
      "cell_type": "code",
      "metadata": {
        "deletable": false,
        "editable": false,
        "nbgrader": {
          "cell_type": "code",
          "checksum": "1349d821672cf44e0dd3530911406dae",
          "grade": true,
          "grade_id": "j890i3q4gr5h46trejhu",
          "locked": true,
          "points": 2,
          "schema_version": 3,
          "solution": false,
          "task": false
        },
        "id": "Age3tvow3mGu"
      },
      "source": [
        ""
      ],
      "execution_count": null,
      "outputs": []
    },
    {
      "cell_type": "markdown",
      "metadata": {
        "id": "oyXh7Y28IAFk"
      },
      "source": [
        "### Pytorch and CIFAR-10 setup"
      ]
    },
    {
      "cell_type": "markdown",
      "metadata": {
        "id": "dwhCZ-B13mGv"
      },
      "source": [
        "Two cutting edge areas of machine learning include computer vision and natural language processing. Computer vision is the task of having computers understand and analyze image or video data (in an intelligent way, using artificial intelligence). A key task of computer vision is image classification, which we will focus on here. We will take a dataset full of images and classify them into categories, similar to how a human would split images based on what the person sees."
      ]
    },
    {
      "cell_type": "markdown",
      "metadata": {
        "id": "9Mhl-FDn3mGv"
      },
      "source": [
        "Pytorch is one of two deep learning frameworks that are used in industry and academia consistently (the other being Tensorflow with Keras). We use this framework for neural networks and deep learning in order to have our code run on GPUs with much faster training. When using a framework like PyTorch or TensorFlow, you can harness the power of the GPU for your own custom neural network architectures without having to write CUDA code directly (which is beyond the scope of this class). We want you to be ready to use one of these frameworks for your project so you can experiment more efficiently than if you were writing every feature you want to use by hand. We want you to be exposed to the sort of deep learning code you might run into in academia or industry. Pytorch simplifies the process of creating the neural networks."
      ]
    },
    {
      "cell_type": "markdown",
      "metadata": {
        "id": "HvC7YVdt3mGv"
      },
      "source": [
        "Pytorch documentation can be found here: https://pytorch.org/docs/stable/index.html\n",
        "\n",
        "This is where you can read through the documentation of important pieces of the code and look through tutorials on how to build different network architectures for different tasks."
      ]
    },
    {
      "cell_type": "code",
      "metadata": {
        "id": "_WgQh4x_IAFl"
      },
      "source": [
        "import torch\n",
        "import torch.nn as nn\n",
        "import torch.optim as optim\n",
        "from torch.autograd import Variable\n",
        "from torch.utils.data import DataLoader\n",
        "from torch.utils.data import sampler\n",
        "\n",
        "import torchvision.datasets as dset\n",
        "import torchvision.transforms as T"
      ],
      "execution_count": 1,
      "outputs": []
    },
    {
      "cell_type": "markdown",
      "metadata": {
        "id": "xiDsCh1l3mGv"
      },
      "source": [
        "Cifar-10 is a dataset that is used for image classification. More details can be found here: https://www.cs.toronto.edu/~kriz/cifar.html\n",
        "\n",
        "The basic idea is that this dataset has 10 different classes, with 60000 32 by 32 images. 50000 of these are used as training (with 1000 as validation out of that 50000), and 10000 of these are used as testing. \n",
        "\n",
        "The classes are:\n",
        "\n",
        "0. airplane\n",
        "1. automobile\n",
        "2. bird\n",
        "3. cat\n",
        "4. deer\n",
        "5. dog \n",
        "6. frog \n",
        "7. horse \n",
        "8. ship\n",
        "9. truck"
      ]
    },
    {
      "cell_type": "code",
      "metadata": {
        "id": "4y4XVp9feb4Z",
        "colab": {
          "base_uri": "https://localhost:8080/",
          "height": 137,
          "referenced_widgets": [
            "3c9080e92da74e2a981a35f913d2dfa1",
            "dd761c12432a4e4bad53404b287df534",
            "a8cc3706ded144dbab8f556042efca3b",
            "915c46a63e5a437fa1cb24a17bcb58a9",
            "27f829d356d5471394ba38806d324686",
            "09863cdebe494267b342ba85640bebfd",
            "a77bce7b4c4e462293c0c0d0133d611a",
            "29c60ebb6d2e42f980024c74155a8801"
          ]
        },
        "outputId": "a3bc362e-7bb6-49aa-c6d3-0a2c0c81d4af"
      },
      "source": [
        "class ChunkSampler(sampler.Sampler):\n",
        "    \"\"\"Samples elements sequentially from some offset. \n",
        "    Arguments:\n",
        "        num_samples: # of desired datapoints\n",
        "        start: offset where we should start selecting from\n",
        "    \"\"\"\n",
        "    def __init__(self, num_samples, start = 0):\n",
        "        self.num_samples = num_samples\n",
        "        self.start = start\n",
        "\n",
        "    def __iter__(self):\n",
        "        return iter(range(self.start, self.start + self.num_samples))\n",
        "\n",
        "    def __len__(self):\n",
        "        return self.num_samples\n",
        "\n",
        "NUM_TRAIN = 49000\n",
        "NUM_VAL = 1000\n",
        "\n",
        "try:\n",
        "    cifar10_train = dset.CIFAR10('/content/drive/My Drive/CSCI360_Project4/datasets/cifar-10', train=True, download=True,\n",
        "                            transform=T.ToTensor())\n",
        "    loader_train = DataLoader(cifar10_train, batch_size=64, sampler=ChunkSampler(NUM_TRAIN, 0))\n",
        "\n",
        "    cifar10_val = dset.CIFAR10('/content/drive/My Drive/CSCI360_Project4/datasets/cifar-10', train=True, download=True,\n",
        "                            transform=T.ToTensor())\n",
        "    loader_val = DataLoader(cifar10_val, batch_size=64, sampler=ChunkSampler(NUM_VAL, NUM_TRAIN))\n",
        "\n",
        "    cifar10_test = dset.CIFAR10('/content/drive/My Drive/CSCI360_Project4/datasets/cifar-10', train=False, download=True,\n",
        "                            transform=T.ToTensor())\n",
        "    loader_test = DataLoader(cifar10_test, batch_size=64)\n",
        "except:\n",
        "    cifar10_train = dset.CIFAR10('./datasets/cifar-10', train=True, download=True,\n",
        "                            transform=T.ToTensor())\n",
        "    loader_train = DataLoader(cifar10_train, batch_size=64, sampler=ChunkSampler(NUM_TRAIN, 0))\n",
        "\n",
        "    cifar10_val = dset.CIFAR10('./datasets/cifar-10', train=True, download=True,\n",
        "                            transform=T.ToTensor())\n",
        "    loader_val = DataLoader(cifar10_val, batch_size=64, sampler=ChunkSampler(NUM_VAL, NUM_TRAIN))\n",
        "\n",
        "    cifar10_test = dset.CIFAR10('./datasets/cifar-10', train=False, download=True,\n",
        "                            transform=T.ToTensor())\n",
        "    loader_test = DataLoader(cifar10_test, batch_size=64)"
      ],
      "execution_count": 2,
      "outputs": [
        {
          "output_type": "stream",
          "text": [
            "Downloading https://www.cs.toronto.edu/~kriz/cifar-10-python.tar.gz to /content/drive/My Drive/CSCI360_Project4/datasets/cifar-10/cifar-10-python.tar.gz\n"
          ],
          "name": "stdout"
        },
        {
          "output_type": "display_data",
          "data": {
            "application/vnd.jupyter.widget-view+json": {
              "model_id": "3c9080e92da74e2a981a35f913d2dfa1",
              "version_minor": 0,
              "version_major": 2
            },
            "text/plain": [
              "HBox(children=(FloatProgress(value=0.0, max=170498071.0), HTML(value='')))"
            ]
          },
          "metadata": {
            "tags": []
          }
        },
        {
          "output_type": "stream",
          "text": [
            "\n",
            "Extracting /content/drive/My Drive/CSCI360_Project4/datasets/cifar-10/cifar-10-python.tar.gz to /content/drive/My Drive/CSCI360_Project4/datasets/cifar-10\n",
            "Files already downloaded and verified\n",
            "Files already downloaded and verified\n"
          ],
          "name": "stdout"
        }
      ]
    },
    {
      "cell_type": "markdown",
      "metadata": {
        "id": "hgWBWbbzIAFl"
      },
      "source": [
        "## Question 3) Convolutional Neural Network - 5 Points"
      ]
    },
    {
      "cell_type": "markdown",
      "metadata": {
        "id": "SZdZGK4o3mGx"
      },
      "source": [
        "Let's start by looking at a simple model. First, note that PyTorch operates on Tensors, which are n-dimensional arrays functionally analogous to numpy's ndarrays, with the additional feature that they can be used for computations on GPUs.\n",
        "We'll provide you with a Flatten function, which we explain here. Remember that our image data (and more relevantly, our intermediate feature maps) are initially N x C x H x W, where:\n",
        "\n",
        "0. N is the number of datapoints\n",
        "1. C is the number of channels\n",
        "2. H is the height of the intermediate feature map in pixels\n",
        "3. W is the height of the intermediate feature map in pixels\n",
        "\n",
        "This is the right way to represent the data when we are doing something like a 2D convolution, that\n",
        "needs spatial understanding of where the intermediate features are relative to each other. When we input data into fully connected affine layers, however, we want each datapoint to be represented by a single vector -- it's no longer useful to segregate the different channels, rows, and columns of the data. So, we use a \"Flatten\" operation to collapse the C x H x W values per representation into a single long vector. The Flatten function below first reads in the N, C, H, and W values from a given batch of data, and then returns a \"view\" of that data. \"View\" is analogous to numpy's \"reshape\" method: it reshapes x's dimensions to be N x ??, where ?? is allowed to be anything (in this case, it will be C x H x W, but we don't need to specify that explicitly)."
      ]
    },
    {
      "cell_type": "markdown",
      "metadata": {
        "id": "QbTVvSrl3mGx"
      },
      "source": [
        "The first step to training your own model is defining its architecture.\n",
        "\n",
        "Here's an example of a convolutional neural network defined in PyTorch -- try to understand what each line is doing, \n",
        "remembering that each layer is composed upon the previous layer. We haven't trained anything yet - that'll come next- for now, we want you to understand how everything gets set up. nn.Sequential is a container which applies each layer \n",
        "one after the other. \n",
        "\n",
        "In that example, you see 2D convolutional layers (Conv2d), ReLU activations, and fully-connected\n",
        "layers (Linear)."
      ]
    },
    {
      "cell_type": "code",
      "metadata": {
        "id": "FifKxMGtU4al",
        "colab": {
          "base_uri": "https://localhost:8080/"
        },
        "outputId": "d3647c42-44c4-4aeb-ab37-cba4eca69c70"
      },
      "source": [
        "# Verify that CUDA is properly configured and you have a GPU available\n",
        "torch.cuda.is_available()\n",
        "\n",
        "import copy\n",
        "dtype = torch.cuda.FloatTensor\n",
        "\n",
        "# This is a little utility that we'll use to reset the model\n",
        "# if we want to re-initialize all our parameters\n",
        "def reset(m):\n",
        "    if hasattr(m, 'reset_parameters'):\n",
        "        m.reset_parameters()\n",
        "\n",
        "class Flatten(nn.Module):\n",
        "    def forward(self, x):\n",
        "        N, C, H, W = x.size() # read in N, C, H, W\n",
        "        return x.view(N, -1)  # \"flatten\" the C * H * W values into a single vector per image\n",
        "\n",
        "# Here's where we define the architecture of the model... \n",
        "simple_model = nn.Sequential(\n",
        "                nn.Conv2d(3, 32, kernel_size=7, stride=2),\n",
        "                nn.ReLU(inplace=True),\n",
        "                Flatten(), # see above for explanation\n",
        "                nn.Linear(5408, 10), # affine layer\n",
        "              )\n",
        "\n",
        "# Set the type of all data in this model to be FloatTensor \n",
        "simple_model.type(dtype)"
      ],
      "execution_count": 36,
      "outputs": [
        {
          "output_type": "execute_result",
          "data": {
            "text/plain": [
              "Sequential(\n",
              "  (0): Conv2d(3, 32, kernel_size=(7, 7), stride=(2, 2))\n",
              "  (1): ReLU(inplace=True)\n",
              "  (2): Flatten()\n",
              "  (3): Linear(in_features=5408, out_features=10, bias=True)\n",
              ")"
            ]
          },
          "metadata": {
            "tags": []
          },
          "execution_count": 36
        }
      ]
    },
    {
      "cell_type": "markdown",
      "metadata": {
        "id": "vBP2X8bj3mGy"
      },
      "source": [
        "To make sure you're doing the right thing, use the following tool to check the dimensionality of your\n",
        "output (it should be 64 x 10, since our batches have size 64 and the output of the final affine layer should be 10, \n",
        "corresponding to our 10 classes):"
      ]
    },
    {
      "cell_type": "code",
      "metadata": {
        "id": "l9q7t_eEXer4",
        "colab": {
          "base_uri": "https://localhost:8080/"
        },
        "outputId": "e611290a-5716-4488-92c9-6437e7548459"
      },
      "source": [
        "## Now we're going to feed a random batch into the model you defined and make sure the output is the right size\n",
        "x = torch.randn(64, 3, 32, 32).type(dtype)\n",
        "x_var = Variable(x.type(dtype)) # Construct a PyTorch Variable out of your input data\n",
        "ans = simple_model(x_var)        # Feed it through the model! \n",
        "\n",
        "# Check to make sure what comes out of your model\n",
        "# is the right dimensionality... this should be True\n",
        "# if you've done everything correctly\n",
        "np.array_equal(np.array(ans.size()), np.array([64, 10]))       "
      ],
      "execution_count": 37,
      "outputs": [
        {
          "output_type": "execute_result",
          "data": {
            "text/plain": [
              "True"
            ]
          },
          "metadata": {
            "tags": []
          },
          "execution_count": 37
        }
      ]
    },
    {
      "cell_type": "markdown",
      "metadata": {
        "id": "Czfisvdk3mGy"
      },
      "source": [
        "PyTorch supports many other layer types, loss functions, and optimizers - below we initialize an RMSProp optimizer and calculate the loss with cross entropy loss."
      ]
    },
    {
      "cell_type": "code",
      "metadata": {
        "id": "ALsgxpA-IAFm"
      },
      "source": [
        "fixed_model_gpu = copy.deepcopy(simple_model).type(dtype)\n",
        "\n",
        "loss_fn = nn.CrossEntropyLoss()\n",
        "optimizer = optim.RMSprop(fixed_model_gpu.parameters(), lr=1e-3) # lr sets the learning rate of the optimizer\n",
        "\n",
        "x_gpu = torch.randn(64, 3, 32, 32).type(dtype)\n",
        "x_var_gpu = Variable(x.type(dtype)) # Construct a PyTorch Variable out of your input data\n",
        "ans = fixed_model_gpu(x_var_gpu)        # Feed it through the model! \n",
        "\n",
        "# Check to make sure what comes out of your model\n",
        "# is the right dimensionality... this should be True\n",
        "# if you've done everything correctly\n",
        "np.array_equal(np.array(ans.size()), np.array([64, 10]))\n",
        "\n",
        "ans = simple_model(x_var)\n",
        "\n",
        "torch.cuda.synchronize() # Make sure there are no pending GPU computations\n",
        "ans = fixed_model_gpu(x_var_gpu)        # Feed it through the model! \n",
        "torch.cuda.synchronize() # Make sure there are no pending GPU computations"
      ],
      "execution_count": 38,
      "outputs": []
    },
    {
      "cell_type": "markdown",
      "metadata": {
        "id": "y4zmKnzC3mGz"
      },
      "source": [
        "Now that you've seen how to define a model, let's walk through how you'd actually train one whole epoch \n",
        "over your training data (using the simple_model we provided above)."
      ]
    },
    {
      "cell_type": "code",
      "metadata": {
        "id": "3NA6UF8JZTGv",
        "colab": {
          "base_uri": "https://localhost:8080/"
        },
        "outputId": "08d5de77-b3b1-456a-9632-a117ff841869"
      },
      "source": [
        "# This sets the model in \"training\" mode. This is relevant for some layers that may have different behavior\n",
        "# in training mode vs testing mode, such as Dropout and BatchNorm. \n",
        "fixed_model_gpu.train()\n",
        "\n",
        "# Load one batch at a time.\n",
        "for t, (x, y) in enumerate(loader_train):\n",
        "    x_var = Variable(x.type(dtype))\n",
        "    y_var = Variable(y.type(dtype).long())\n",
        "\n",
        "    # This is the forward pass: predict the scores for each class, for each x in the batch.\n",
        "    scores = fixed_model_gpu(x_var)\n",
        "    \n",
        "    # Use the correct y values and the predicted y values to compute the loss.\n",
        "    loss = loss_fn(scores, y_var)\n",
        "    \n",
        "    if (t + 1) % 100 == 0:\n",
        "        print('t = %d, loss = %.4f' % (t + 1, loss.item()))#loss.data[0]))\n",
        "\n",
        "    # Zero out all of the gradients for the variables which the optimizer will update.\n",
        "    optimizer.zero_grad()\n",
        "    \n",
        "    # This is the backwards pass: compute the gradient of the loss with respect to each \n",
        "    # parameter of the model.\n",
        "    loss.backward()\n",
        "    \n",
        "    # Actually update the parameters of the model using the gradients computed by the backwards pass.\n",
        "    optimizer.step()"
      ],
      "execution_count": 39,
      "outputs": [
        {
          "output_type": "stream",
          "text": [
            "t = 100, loss = 1.9927\n",
            "t = 200, loss = 1.8928\n",
            "t = 300, loss = 1.7681\n",
            "t = 400, loss = 1.5998\n",
            "t = 500, loss = 1.5918\n",
            "t = 600, loss = 1.6947\n",
            "t = 700, loss = 1.5939\n"
          ],
          "name": "stdout"
        }
      ]
    },
    {
      "cell_type": "markdown",
      "metadata": {
        "id": "lenz4sbf3mG0"
      },
      "source": [
        "Now you've seen how the training process works in PyTorch. To save you writing boilerplate code,\n",
        "we're providing the following helper functions to help you train for multiple epochs and check the\n",
        "accuracy of your model:"
      ]
    },
    {
      "cell_type": "code",
      "metadata": {
        "id": "OuNYtqNUewwp"
      },
      "source": [
        "def train(model, loss_fn, optimizer, num_epochs = 1):\n",
        "    for epoch in range(num_epochs):\n",
        "        print('Starting epoch %d / %d' % (epoch + 1, num_epochs))\n",
        "        model.train()\n",
        "        for t, (x, y) in enumerate(loader_train):\n",
        "            x_var = Variable(x.type(dtype))\n",
        "            y_var = Variable(y.type(dtype).long())\n",
        "\n",
        "            scores = model(x_var)\n",
        "            \n",
        "            loss = loss_fn(scores, y_var)\n",
        "            if (t + 1) % 100 == 0:\n",
        "                print('t = %d, loss = %.4f' % (t + 1, loss.item()))#loss.data[0]))\n",
        "\n",
        "            optimizer.zero_grad()\n",
        "            loss.backward()\n",
        "            optimizer.step()\n",
        "\n",
        "def check_accuracy(model, loader):\n",
        "    if loader.dataset.train:\n",
        "        print('Checking accuracy on validation set')\n",
        "    else:\n",
        "        print('Checking accuracy on test set')   \n",
        "    num_correct = 0\n",
        "    num_samples = 0\n",
        "    model.eval() # Put the model in test mode (the opposite of model.train(), essentially)\n",
        "    for x, y in loader:\n",
        "        x_var = Variable(x.type(dtype), volatile=True)\n",
        "\n",
        "        scores = model(x_var)\n",
        "        _, preds = scores.data.cpu().max(1)\n",
        "        num_correct += (preds == y).sum()\n",
        "        num_samples += preds.size(0)\n",
        "    acc = float(num_correct) / num_samples\n",
        "    print('Got %d / %d correct (%.2f)' % (num_correct, num_samples, 100 * acc))\n",
        "    return acc"
      ],
      "execution_count": 41,
      "outputs": []
    },
    {
      "cell_type": "markdown",
      "metadata": {
        "id": "Nf-zYLIM3mG1"
      },
      "source": [
        "Let's see the train and check_accuracy code in action -- feel free to use these methods when\n",
        "evaluating the models you develop below.\n",
        "\n",
        "You should get a training loss of around 1.2-1.4, and a validation accuracy of around 50-60%. As\n",
        "mentioned above, if you re-run the cells, you'll be training more epochs, so your performance will\n",
        "improve past these numbers.\n",
        "\n",
        "But don't worry about getting these numbers better -- this was just practice before you tackle\n",
        "designing your own model."
      ]
    },
    {
      "cell_type": "code",
      "metadata": {
        "id": "Xe3Ny_s-e2lt",
        "colab": {
          "base_uri": "https://localhost:8080/"
        },
        "outputId": "1ddc3613-cb49-486b-de4c-769b974fdab9"
      },
      "source": [
        "torch.cuda.random.manual_seed(12345)\n",
        "fixed_model_gpu.apply(reset)\n",
        "train(fixed_model_gpu, loss_fn, optimizer, num_epochs=3)\n",
        "check_accuracy(fixed_model_gpu, loader_val)"
      ],
      "execution_count": 42,
      "outputs": [
        {
          "output_type": "stream",
          "text": [
            "Starting epoch 1 / 3\n",
            "t = 100, loss = 1.9786\n",
            "t = 200, loss = 1.8440\n",
            "t = 300, loss = 1.7127\n",
            "t = 400, loss = 1.5325\n",
            "t = 500, loss = 1.5331\n",
            "t = 600, loss = 1.6459\n",
            "t = 700, loss = 1.5777\n",
            "Starting epoch 2 / 3\n",
            "t = 100, loss = 1.2691\n",
            "t = 200, loss = 1.4751\n",
            "t = 300, loss = 1.4052\n",
            "t = 400, loss = 1.3239\n",
            "t = 500, loss = 1.3121\n",
            "t = 600, loss = 1.5220\n",
            "t = 700, loss = 1.4696\n",
            "Starting epoch 3 / 3\n",
            "t = 100, loss = 1.1038\n",
            "t = 200, loss = 1.3281\n",
            "t = 300, loss = 1.2653\n",
            "t = 400, loss = 1.2142\n",
            "t = 500, loss = 1.2301\n",
            "t = 600, loss = 1.4734\n",
            "t = 700, loss = 1.3827\n",
            "Checking accuracy on validation set\n",
            "Got 570 / 1000 correct (57.00)\n"
          ],
          "name": "stdout"
        },
        {
          "output_type": "stream",
          "text": [
            "/usr/local/lib/python3.7/dist-packages/ipykernel_launcher.py:28: UserWarning: volatile was removed and now has no effect. Use `with torch.no_grad():` instead.\n"
          ],
          "name": "stderr"
        },
        {
          "output_type": "execute_result",
          "data": {
            "text/plain": [
              "0.57"
            ]
          },
          "metadata": {
            "tags": []
          },
          "execution_count": 42
        }
      ]
    },
    {
      "cell_type": "markdown",
      "metadata": {
        "id": "r_AVkeSj3mG1"
      },
      "source": [
        "## Train a _great_ model on CIFAR-10!\n",
        "\n",
        "Now it's your job to experiment with architectures, hyperparameters, loss functions, and optimizers to train a model that achieves **>=65%** accuracy on the CIFAR-10 **validation** set. You can use the check_accuracy and train functions from above.\n",
        "\n",
        "### Things you should try:\n",
        "- **Filter size**: Above we used 7x7; this makes pretty pictures but smaller filters may be more efficient\n",
        "- **Number of filters**: Above we used 32 filters. Do more or fewer do better?\n",
        "- **Pooling vs Strided Convolution**: Do you use max pooling or just stride convolutions?\n",
        "- **Batch normalization**: Try adding spatial batch normalization after convolution layers and vanilla batch normalization after affine layers. Do your networks train faster?\n",
        "- **Network architecture**: The network above has two layers of trainable parameters. Can you do better with a deep network? Good architectures to try include:\n",
        "    - [conv-relu-pool]xN -> [affine]xM -> [softmax or SVM]\n",
        "    - [conv-relu-conv-relu-pool]xN -> [affine]xM -> [softmax or SVM]\n",
        "    - [batchnorm-relu-conv]xN -> [affine]xM -> [softmax or SVM]\n",
        "- **Global Average Pooling**: Instead of flattening and then having multiple affine layers, perform convolutions until your image gets small (7x7 or so) and then perform an average pooling operation to get to a 1x1 image picture (1, 1 , Filter#), which is then reshaped into a (Filter#) vector. This is used in [Google's Inception Network](https://arxiv.org/abs/1512.00567) (See Table 1 for their architecture).\n",
        "- **Regularization**: Add l2 weight regularization, or perhaps use Dropout.\n",
        "\n",
        "### Tips for training\n",
        "For each network architecture that you try, you should tune the learning rate and regularization strength. When doing this there are a couple important things to keep in mind:\n",
        "\n",
        "- If the parameters are working well, you should see improvement within a few hundred iterations\n",
        "- Remember the coarse-to-fine approach for hyperparameter tuning: start by testing a large range of hyperparameters for just a few training iterations to find the combinations of parameters that are working at all.\n",
        "- Once you have found some sets of parameters that seem to work, search more finely around these parameters. You may need to train for more epochs.\n",
        "- You should use the validation set for hyperparameter search, and save your test set for evaluating your architecture on the best parameters as selected by the validation set.\n",
        "\n",
        "### Going above and beyond\n",
        "If you are feeling adventurous there are many other features you can implement to try and improve your performance. You are **not required** to implement any of these; however they would be good things to try.\n",
        "\n",
        "- Alternative update steps: For the assignment we implemented SGD+momentum, RMSprop, and Adam; you could try alternatives like AdaGrad or AdaDelta.\n",
        "- Alternative activation functions such as leaky ReLU, parametric ReLU, ELU, or MaxOut.\n",
        "- Model ensembles\n",
        "- Data augmentation\n",
        "- New Architectures\n",
        "  - [ResNets](https://arxiv.org/abs/1512.03385) where the input from the previous layer is added to the output.\n",
        "  - [DenseNets](https://arxiv.org/abs/1608.06993) where inputs into previous layers are concatenated together.\n",
        "  - [This blog has an in-depth overview](https://chatbotslife.com/resnets-highwaynets-and-densenets-oh-my-9bb15918ee32)\n",
        "\n",
        "### What we expect\n",
        "At the very least, you should be able to train a ConvNet that gets at least 65% accuracy on the validation set. This is just a lower bound - if you are careful it should be possible to get accuracies much higher than that! \n",
        "\n",
        "You should use the space below to experiment and train your network. \n",
        "\n",
        "Have fun and happy training!"
      ]
    },
    {
      "cell_type": "code",
      "metadata": {
        "id": "naLygKi6hccw",
        "colab": {
          "base_uri": "https://localhost:8080/"
        },
        "outputId": "98b51f70-1b9e-4a74-e43b-65a38c74e0de"
      },
      "source": [
        "# Train your model here, and make sure the output of this cell is the accuracy of your best model on the \n",
        "# train, val, and test sets. Here's some code to get you started. The output of this cell should be the training\n",
        "# and validation accuracy on your best model (measured by validation accuracy).\n",
        "\n",
        "'''Fill in the model below'''\n",
        "model = nn.Sequential(\n",
        "                nn.Conv2d(3, 32, kernel_size=3, stride=1, padding=1),\n",
        "                nn.ReLU(inplace=True),\n",
        "                nn.BatchNorm2d(32),\n",
        "                nn.Dropout(p=0.2),\n",
        "                nn.MaxPool2d(2, stride=2),\n",
        "\n",
        "                nn.Conv2d(32, 64, kernel_size=3, stride=1, padding=1),\n",
        "                nn.ReLU(inplace=True),\n",
        "                nn.BatchNorm2d(64),\n",
        "                nn.Dropout(p=0.2),\n",
        "                nn.MaxPool2d(2, stride=2),\n",
        "           \n",
        "\n",
        "                nn.Conv2d(64, 128, kernel_size=3, stride=1, padding=1),\n",
        "                nn.ReLU(inplace=True),\n",
        "                nn.BatchNorm2d(128),\n",
        "                nn.Dropout(p=0.2),\n",
        "                nn.MaxPool2d(2, stride=2),\n",
        "\n",
        "                nn.Conv2d(128, 256, kernel_size=3, stride=1, padding=1),\n",
        "                nn.ReLU(inplace=True),\n",
        "                nn.BatchNorm2d(256),\n",
        "                nn.Dropout(p=0.2),\n",
        "                nn.MaxPool2d(2, stride=2),\n",
        "\n",
        "                Flatten(), # see above for explanation\n",
        "                #nn.Linear(256, 10) # affine layer\n",
        "            )\n",
        "######\n",
        "\n",
        "gpu = copy.deepcopy(model).type(dtype)\n",
        "\n",
        "loss_fn = nn.CrossEntropyLoss()\n",
        "#lrates = [1e-2, 3e-2, 5e-2, 7e-2, 1e-3, 3e-3, 5e-3, 7e-3, 1e-4, 3e-4, 5e-4, 7e-4, 1e-5, 3e-5, 5e-5, 7e-5]\n",
        "#for i in lrates:\n",
        "#  optimizer = optim.Adam(gpu.parameters(), lr=i)\n",
        "\n",
        "#  torch.cuda.random.manual_seed(12345)\n",
        "#  gpu.apply(reset)\n",
        "#  train(gpu, loss_fn, optimizer, num_epochs=10)\n",
        "#  check_accuracy(gpu, loader_val)\n",
        "\n",
        "optimizer = optim.Adam(gpu.parameters(), lr=1e-4)\n",
        "\n",
        "torch.cuda.random.manual_seed(12345)\n",
        "gpu.apply(reset)\n",
        "train(gpu, loss_fn, optimizer, num_epochs=50)\n",
        "train_acc = check_accuracy(gpu, loader_val)"
      ],
      "execution_count": 114,
      "outputs": [
        {
          "output_type": "stream",
          "text": [
            "Starting epoch 1 / 50\n",
            "t = 100, loss = 5.4414\n",
            "t = 200, loss = 5.3006\n",
            "t = 300, loss = 4.9143\n",
            "t = 400, loss = 4.7722\n",
            "t = 500, loss = 4.0870\n",
            "t = 600, loss = 4.5185\n",
            "t = 700, loss = 4.6564\n",
            "Starting epoch 2 / 50\n",
            "t = 100, loss = 3.8737\n",
            "t = 200, loss = 4.2109\n",
            "t = 300, loss = 4.1916\n",
            "t = 400, loss = 3.8775\n",
            "t = 500, loss = 3.6183\n",
            "t = 600, loss = 4.2588\n",
            "t = 700, loss = 4.0268\n",
            "Starting epoch 3 / 50\n",
            "t = 100, loss = 3.5033\n",
            "t = 200, loss = 3.6379\n",
            "t = 300, loss = 3.8184\n",
            "t = 400, loss = 3.0603\n",
            "t = 500, loss = 3.1436\n",
            "t = 600, loss = 3.6240\n",
            "t = 700, loss = 3.4568\n",
            "Starting epoch 4 / 50\n",
            "t = 100, loss = 3.1686\n",
            "t = 200, loss = 3.7713\n",
            "t = 300, loss = 3.4853\n",
            "t = 400, loss = 2.6246\n",
            "t = 500, loss = 2.8824\n",
            "t = 600, loss = 3.1121\n",
            "t = 700, loss = 3.1452\n",
            "Starting epoch 5 / 50\n",
            "t = 100, loss = 2.5325\n",
            "t = 200, loss = 3.3244\n",
            "t = 300, loss = 2.7966\n",
            "t = 400, loss = 2.5842\n",
            "t = 500, loss = 2.6405\n",
            "t = 600, loss = 2.6663\n",
            "t = 700, loss = 2.8438\n",
            "Starting epoch 6 / 50\n",
            "t = 100, loss = 2.5980\n",
            "t = 200, loss = 2.6340\n",
            "t = 300, loss = 3.2593\n",
            "t = 400, loss = 2.6884\n",
            "t = 500, loss = 2.3722\n",
            "t = 600, loss = 2.2657\n",
            "t = 700, loss = 2.7996\n",
            "Starting epoch 7 / 50\n",
            "t = 100, loss = 2.0635\n",
            "t = 200, loss = 3.2504\n",
            "t = 300, loss = 2.5097\n",
            "t = 400, loss = 2.2252\n",
            "t = 500, loss = 2.3508\n",
            "t = 600, loss = 2.3340\n",
            "t = 700, loss = 2.6488\n",
            "Starting epoch 8 / 50\n",
            "t = 100, loss = 1.9472\n",
            "t = 200, loss = 2.3147\n",
            "t = 300, loss = 2.3342\n",
            "t = 400, loss = 1.9448\n",
            "t = 500, loss = 2.1210\n",
            "t = 600, loss = 1.7554\n",
            "t = 700, loss = 2.2798\n",
            "Starting epoch 9 / 50\n",
            "t = 100, loss = 2.0763\n",
            "t = 200, loss = 2.0483\n",
            "t = 300, loss = 2.2552\n",
            "t = 400, loss = 1.9692\n",
            "t = 500, loss = 1.7309\n",
            "t = 600, loss = 1.9633\n",
            "t = 700, loss = 2.3487\n",
            "Starting epoch 10 / 50\n",
            "t = 100, loss = 1.5487\n",
            "t = 200, loss = 1.9659\n",
            "t = 300, loss = 2.0895\n",
            "t = 400, loss = 1.5411\n",
            "t = 500, loss = 1.6599\n",
            "t = 600, loss = 2.0089\n",
            "t = 700, loss = 1.9845\n",
            "Starting epoch 11 / 50\n",
            "t = 100, loss = 1.5711\n",
            "t = 200, loss = 1.8983\n",
            "t = 300, loss = 2.0545\n",
            "t = 400, loss = 1.8816\n",
            "t = 500, loss = 1.5993\n",
            "t = 600, loss = 1.5599\n",
            "t = 700, loss = 1.9035\n",
            "Starting epoch 12 / 50\n",
            "t = 100, loss = 1.3898\n",
            "t = 200, loss = 1.6518\n",
            "t = 300, loss = 1.8999\n",
            "t = 400, loss = 1.7303\n",
            "t = 500, loss = 1.4883\n",
            "t = 600, loss = 1.5157\n",
            "t = 700, loss = 1.6044\n",
            "Starting epoch 13 / 50\n",
            "t = 100, loss = 1.3839\n",
            "t = 200, loss = 1.6483\n",
            "t = 300, loss = 1.9711\n",
            "t = 400, loss = 1.1926\n",
            "t = 500, loss = 1.5057\n",
            "t = 600, loss = 1.6883\n",
            "t = 700, loss = 1.5507\n",
            "Starting epoch 14 / 50\n",
            "t = 100, loss = 1.6248\n",
            "t = 200, loss = 1.5443\n",
            "t = 300, loss = 1.5648\n",
            "t = 400, loss = 1.4251\n",
            "t = 500, loss = 1.2605\n",
            "t = 600, loss = 1.4313\n",
            "t = 700, loss = 1.3820\n",
            "Starting epoch 15 / 50\n",
            "t = 100, loss = 1.2363\n",
            "t = 200, loss = 1.3902\n",
            "t = 300, loss = 1.7655\n",
            "t = 400, loss = 1.2218\n",
            "t = 500, loss = 1.2462\n",
            "t = 600, loss = 1.3747\n",
            "t = 700, loss = 1.7038\n",
            "Starting epoch 16 / 50\n",
            "t = 100, loss = 1.0793\n",
            "t = 200, loss = 1.3865\n",
            "t = 300, loss = 1.5247\n",
            "t = 400, loss = 1.4288\n",
            "t = 500, loss = 1.1074\n",
            "t = 600, loss = 1.0352\n",
            "t = 700, loss = 1.5327\n",
            "Starting epoch 17 / 50\n",
            "t = 100, loss = 1.4036\n",
            "t = 200, loss = 1.3390\n",
            "t = 300, loss = 1.4057\n",
            "t = 400, loss = 1.3482\n",
            "t = 500, loss = 1.6930\n",
            "t = 600, loss = 1.2010\n",
            "t = 700, loss = 1.2923\n",
            "Starting epoch 18 / 50\n",
            "t = 100, loss = 1.0116\n",
            "t = 200, loss = 1.2710\n",
            "t = 300, loss = 1.1476\n",
            "t = 400, loss = 0.9858\n",
            "t = 500, loss = 1.1404\n",
            "t = 600, loss = 1.1888\n",
            "t = 700, loss = 1.4037\n",
            "Starting epoch 19 / 50\n",
            "t = 100, loss = 1.0996\n",
            "t = 200, loss = 1.0895\n",
            "t = 300, loss = 1.0993\n",
            "t = 400, loss = 1.0551\n",
            "t = 500, loss = 0.9791\n",
            "t = 600, loss = 1.1550\n",
            "t = 700, loss = 1.5420\n",
            "Starting epoch 20 / 50\n",
            "t = 100, loss = 1.1997\n",
            "t = 200, loss = 1.1480\n",
            "t = 300, loss = 1.1664\n",
            "t = 400, loss = 1.0671\n",
            "t = 500, loss = 0.7933\n",
            "t = 600, loss = 1.3159\n",
            "t = 700, loss = 1.2301\n",
            "Starting epoch 21 / 50\n",
            "t = 100, loss = 0.9863\n",
            "t = 200, loss = 1.2779\n",
            "t = 300, loss = 1.3362\n",
            "t = 400, loss = 1.0911\n",
            "t = 500, loss = 0.9791\n",
            "t = 600, loss = 1.1528\n",
            "t = 700, loss = 1.4178\n",
            "Starting epoch 22 / 50\n",
            "t = 100, loss = 0.8966\n",
            "t = 200, loss = 1.2424\n",
            "t = 300, loss = 1.2910\n",
            "t = 400, loss = 1.1434\n",
            "t = 500, loss = 1.0241\n",
            "t = 600, loss = 1.0129\n",
            "t = 700, loss = 1.3051\n",
            "Starting epoch 23 / 50\n",
            "t = 100, loss = 1.0334\n",
            "t = 200, loss = 1.0754\n",
            "t = 300, loss = 1.1762\n",
            "t = 400, loss = 0.9379\n",
            "t = 500, loss = 0.9702\n",
            "t = 600, loss = 1.2905\n",
            "t = 700, loss = 1.1028\n",
            "Starting epoch 24 / 50\n",
            "t = 100, loss = 1.0815\n",
            "t = 200, loss = 0.9999\n",
            "t = 300, loss = 1.0301\n",
            "t = 400, loss = 1.0236\n",
            "t = 500, loss = 0.9739\n",
            "t = 600, loss = 1.0883\n",
            "t = 700, loss = 1.0208\n",
            "Starting epoch 25 / 50\n",
            "t = 100, loss = 1.0491\n",
            "t = 200, loss = 1.0794\n",
            "t = 300, loss = 1.1838\n",
            "t = 400, loss = 1.2181\n",
            "t = 500, loss = 0.9737\n",
            "t = 600, loss = 1.0181\n",
            "t = 700, loss = 1.0708\n",
            "Starting epoch 26 / 50\n",
            "t = 100, loss = 0.8138\n",
            "t = 200, loss = 1.1379\n",
            "t = 300, loss = 1.1329\n",
            "t = 400, loss = 0.8483\n",
            "t = 500, loss = 0.6648\n",
            "t = 600, loss = 0.7402\n",
            "t = 700, loss = 1.2079\n",
            "Starting epoch 27 / 50\n",
            "t = 100, loss = 0.9524\n",
            "t = 200, loss = 1.1210\n",
            "t = 300, loss = 1.1944\n",
            "t = 400, loss = 0.9328\n",
            "t = 500, loss = 0.7539\n",
            "t = 600, loss = 0.8200\n",
            "t = 700, loss = 1.0785\n",
            "Starting epoch 28 / 50\n",
            "t = 100, loss = 0.7711\n",
            "t = 200, loss = 0.9794\n",
            "t = 300, loss = 1.0434\n",
            "t = 400, loss = 0.8927\n",
            "t = 500, loss = 0.7373\n",
            "t = 600, loss = 1.0463\n",
            "t = 700, loss = 0.9477\n",
            "Starting epoch 29 / 50\n",
            "t = 100, loss = 0.7209\n",
            "t = 200, loss = 0.9095\n",
            "t = 300, loss = 0.9860\n",
            "t = 400, loss = 0.8185\n",
            "t = 500, loss = 0.7947\n",
            "t = 600, loss = 1.0353\n",
            "t = 700, loss = 1.2511\n",
            "Starting epoch 30 / 50\n",
            "t = 100, loss = 0.7287\n",
            "t = 200, loss = 0.8047\n",
            "t = 300, loss = 1.2258\n",
            "t = 400, loss = 0.9694\n",
            "t = 500, loss = 0.7264\n",
            "t = 600, loss = 0.7632\n",
            "t = 700, loss = 1.2043\n",
            "Starting epoch 31 / 50\n",
            "t = 100, loss = 0.6366\n",
            "t = 200, loss = 1.0592\n",
            "t = 300, loss = 1.0397\n",
            "t = 400, loss = 0.7534\n",
            "t = 500, loss = 0.9896\n",
            "t = 600, loss = 1.0081\n",
            "t = 700, loss = 1.0797\n",
            "Starting epoch 32 / 50\n",
            "t = 100, loss = 0.6908\n",
            "t = 200, loss = 1.0875\n",
            "t = 300, loss = 1.3424\n",
            "t = 400, loss = 0.9403\n",
            "t = 500, loss = 0.7390\n",
            "t = 600, loss = 0.7433\n",
            "t = 700, loss = 0.9497\n",
            "Starting epoch 33 / 50\n",
            "t = 100, loss = 0.7736\n",
            "t = 200, loss = 1.0409\n",
            "t = 300, loss = 1.0580\n",
            "t = 400, loss = 0.7485\n",
            "t = 500, loss = 0.6344\n",
            "t = 600, loss = 0.8091\n",
            "t = 700, loss = 0.9216\n",
            "Starting epoch 34 / 50\n",
            "t = 100, loss = 0.7316\n",
            "t = 200, loss = 0.9422\n",
            "t = 300, loss = 0.9789\n",
            "t = 400, loss = 0.9066\n",
            "t = 500, loss = 0.7004\n",
            "t = 600, loss = 0.8584\n",
            "t = 700, loss = 0.9902\n",
            "Starting epoch 35 / 50\n",
            "t = 100, loss = 0.6894\n",
            "t = 200, loss = 0.7376\n",
            "t = 300, loss = 1.3238\n",
            "t = 400, loss = 0.7488\n",
            "t = 500, loss = 0.6073\n",
            "t = 600, loss = 0.8285\n",
            "t = 700, loss = 0.9356\n",
            "Starting epoch 36 / 50\n",
            "t = 100, loss = 1.0163\n",
            "t = 200, loss = 0.9081\n",
            "t = 300, loss = 0.9172\n",
            "t = 400, loss = 0.8479\n",
            "t = 500, loss = 0.5987\n",
            "t = 600, loss = 0.7470\n",
            "t = 700, loss = 1.0039\n",
            "Starting epoch 37 / 50\n",
            "t = 100, loss = 0.6647\n",
            "t = 200, loss = 1.0127\n",
            "t = 300, loss = 0.8851\n",
            "t = 400, loss = 0.9158\n",
            "t = 500, loss = 0.7502\n",
            "t = 600, loss = 0.9186\n",
            "t = 700, loss = 0.8735\n",
            "Starting epoch 38 / 50\n",
            "t = 100, loss = 0.6893\n",
            "t = 200, loss = 0.9047\n",
            "t = 300, loss = 0.9082\n",
            "t = 400, loss = 0.9230\n",
            "t = 500, loss = 0.6766\n",
            "t = 600, loss = 0.9411\n",
            "t = 700, loss = 0.7015\n",
            "Starting epoch 39 / 50\n",
            "t = 100, loss = 0.7532\n",
            "t = 200, loss = 0.8338\n",
            "t = 300, loss = 0.7577\n",
            "t = 400, loss = 0.7300\n",
            "t = 500, loss = 0.6465\n",
            "t = 600, loss = 0.8926\n",
            "t = 700, loss = 0.8460\n",
            "Starting epoch 40 / 50\n",
            "t = 100, loss = 0.7609\n",
            "t = 200, loss = 0.9588\n",
            "t = 300, loss = 1.2422\n",
            "t = 400, loss = 0.7091\n",
            "t = 500, loss = 0.6859\n",
            "t = 600, loss = 0.7971\n",
            "t = 700, loss = 0.9846\n",
            "Starting epoch 41 / 50\n",
            "t = 100, loss = 0.5798\n",
            "t = 200, loss = 0.9105\n",
            "t = 300, loss = 1.1344\n",
            "t = 400, loss = 0.5932\n",
            "t = 500, loss = 0.6235\n",
            "t = 600, loss = 0.9625\n",
            "t = 700, loss = 0.8601\n",
            "Starting epoch 42 / 50\n",
            "t = 100, loss = 0.8161\n",
            "t = 200, loss = 0.8902\n",
            "t = 300, loss = 0.8506\n",
            "t = 400, loss = 0.6499\n",
            "t = 500, loss = 0.6746\n",
            "t = 600, loss = 0.9214\n",
            "t = 700, loss = 0.8665\n",
            "Starting epoch 43 / 50\n",
            "t = 100, loss = 0.6122\n",
            "t = 200, loss = 0.8359\n",
            "t = 300, loss = 0.8424\n",
            "t = 400, loss = 0.9094\n",
            "t = 500, loss = 0.5795\n",
            "t = 600, loss = 0.8856\n",
            "t = 700, loss = 0.7741\n",
            "Starting epoch 44 / 50\n",
            "t = 100, loss = 0.5923\n",
            "t = 200, loss = 0.7956\n",
            "t = 300, loss = 0.7678\n",
            "t = 400, loss = 0.8131\n",
            "t = 500, loss = 0.6492\n",
            "t = 600, loss = 0.8203\n",
            "t = 700, loss = 0.8289\n",
            "Starting epoch 45 / 50\n",
            "t = 100, loss = 0.7606\n",
            "t = 200, loss = 0.7920\n",
            "t = 300, loss = 0.7485\n",
            "t = 400, loss = 0.7014\n",
            "t = 500, loss = 0.6005\n",
            "t = 600, loss = 0.8704\n",
            "t = 700, loss = 0.9807\n",
            "Starting epoch 46 / 50\n",
            "t = 100, loss = 0.7625\n",
            "t = 200, loss = 0.8807\n",
            "t = 300, loss = 1.0477\n",
            "t = 400, loss = 0.6131\n",
            "t = 500, loss = 0.5105\n",
            "t = 600, loss = 0.6018\n",
            "t = 700, loss = 0.8455\n",
            "Starting epoch 47 / 50\n",
            "t = 100, loss = 0.5998\n",
            "t = 200, loss = 0.9063\n",
            "t = 300, loss = 0.8405\n",
            "t = 400, loss = 0.7462\n",
            "t = 500, loss = 0.7250\n",
            "t = 600, loss = 0.8193\n",
            "t = 700, loss = 0.8306\n",
            "Starting epoch 48 / 50\n",
            "t = 100, loss = 0.5056\n",
            "t = 200, loss = 0.8774\n",
            "t = 300, loss = 0.7737\n",
            "t = 400, loss = 0.7117\n",
            "t = 500, loss = 0.7240\n",
            "t = 600, loss = 0.5627\n",
            "t = 700, loss = 0.6819\n",
            "Starting epoch 49 / 50\n",
            "t = 100, loss = 0.6096\n",
            "t = 200, loss = 0.7806\n",
            "t = 300, loss = 0.9729\n",
            "t = 400, loss = 0.6016\n",
            "t = 500, loss = 0.4645\n",
            "t = 600, loss = 0.8950\n",
            "t = 700, loss = 0.6752\n",
            "Starting epoch 50 / 50\n",
            "t = 100, loss = 0.6501\n",
            "t = 200, loss = 0.8275\n",
            "t = 300, loss = 0.8184\n",
            "t = 400, loss = 0.6379\n",
            "t = 500, loss = 0.6455\n",
            "t = 600, loss = 0.6857\n",
            "t = 700, loss = 0.8250\n",
            "Checking accuracy on validation set\n",
            "Got 703 / 1000 correct (70.30)\n"
          ],
          "name": "stdout"
        },
        {
          "output_type": "stream",
          "text": [
            "/usr/local/lib/python3.7/dist-packages/ipykernel_launcher.py:28: UserWarning: volatile was removed and now has no effect. Use `with torch.no_grad():` instead.\n"
          ],
          "name": "stderr"
        }
      ]
    },
    {
      "cell_type": "markdown",
      "metadata": {
        "id": "7j6JmS6o3mG3"
      },
      "source": [
        "Now that we've gotten a result we're happy with, we test our final model on the test set (which you should store in best_model).  This would be the score we would achieve on a competition. Think about how this compares to your validation set accuracy."
      ]
    },
    {
      "cell_type": "code",
      "metadata": {
        "id": "ZyEc8chDjc7I",
        "colab": {
          "base_uri": "https://localhost:8080/"
        },
        "outputId": "83b38050-a27d-4ac1-91d2-7c0537376d06"
      },
      "source": [
        "best_model = gpu\n",
        "test_acc = check_accuracy(best_model, loader_test)\n",
        "assert test_acc >= 0.65"
      ],
      "execution_count": 115,
      "outputs": [
        {
          "output_type": "stream",
          "text": [
            "Checking accuracy on test set\n"
          ],
          "name": "stdout"
        },
        {
          "output_type": "stream",
          "text": [
            "/usr/local/lib/python3.7/dist-packages/ipykernel_launcher.py:28: UserWarning: volatile was removed and now has no effect. Use `with torch.no_grad():` instead.\n"
          ],
          "name": "stderr"
        },
        {
          "output_type": "stream",
          "text": [
            "Got 7167 / 10000 correct (71.67)\n"
          ],
          "name": "stdout"
        }
      ]
    },
    {
      "cell_type": "code",
      "metadata": {
        "deletable": false,
        "editable": false,
        "nbgrader": {
          "cell_type": "code",
          "checksum": "bf7959ca7e1c3185f3ab33f0f70c78df",
          "grade": true,
          "grade_id": "89ji3woru4hy98djeirou",
          "locked": true,
          "points": 5,
          "schema_version": 3,
          "solution": false,
          "task": false
        },
        "id": "WN5M1K1b3mG3"
      },
      "source": [
        ""
      ],
      "execution_count": null,
      "outputs": []
    },
    {
      "cell_type": "markdown",
      "metadata": {
        "id": "Q1ztrJIIRX71"
      },
      "source": [
        "### Pytorch and AG News Dataset setup"
      ]
    },
    {
      "cell_type": "markdown",
      "metadata": {
        "id": "Nbrfp7I73mG4"
      },
      "source": [
        "See Part 3 for explanation on Pytorch. We will use the torchtext portion to take a deeper look into applying neural networks to natural language processing tasks (focusing on text classification). Natural language processing is the task of analyzing and understanding documents and text through a computer, again using artificial intelligence. Similar to computer vision, we do text classification against a dataset to categorize documents into specific classes."
      ]
    },
    {
      "cell_type": "markdown",
      "metadata": {
        "id": "1MHYjrjB3mG4"
      },
      "source": [
        "AG is a collection of more than 1 million news articles. News articles have been gathered from more than 2000 news sources by ComeToMyHead in more than 1 year of activity. ComeToMyHead is an academic news search engine which has been running since July, 2004. The dataset is provided by the academic comunity for research purposes in data mining (clustering, classification, etc), information retrieval (ranking, search, etc), xml, data compression, data streaming, and any other non-commercial activity.\n",
        "\n",
        "The AG's news topic classification dataset is constructed by choosing 4 largest classes from the original corpus. Each class contains 30,000 training samples and 1,900 testing samples. The total number of training samples is 120,000 and testing 7,600.\n",
        "\n",
        "The classes are as follows:\n",
        "\n",
        "0. World\n",
        "1. Sports\n",
        "2. Business\n",
        "3. Sci/Tech"
      ]
    },
    {
      "cell_type": "code",
      "metadata": {
        "id": "5MLSKKtW3mG4"
      },
      "source": [
        "import os\n",
        "os.environ['CUDA_LAUNCH_BLOCKING'] = \"1\"\n",
        "\n",
        "import torch\n",
        "import torch.nn as nn\n",
        "import torch.optim as optim\n",
        "from torch.autograd import Variable\n",
        "from torch.utils.data import DataLoader\n",
        "from torch.utils.data import sampler\n",
        "from torch.utils.data.dataset import random_split\n",
        "\n",
        "try:\n",
        "    import torchtext.datasets as dset\n",
        "    from torchtext.data.utils import get_tokenizer\n",
        "    from collections import Counter\n",
        "    from torchtext.vocab import Vocab\n",
        "except:\n",
        "    import sys\n",
        "    sys.path.append(\"./torchtext\")\n",
        "    import torchtext.datasets as dset\n",
        "    from torchtext.data.utils import get_tokenizer\n",
        "    from collections import Counter\n",
        "    from torchtext.vocab import Vocab"
      ],
      "execution_count": 116,
      "outputs": []
    },
    {
      "cell_type": "code",
      "metadata": {
        "id": "2xlh5DBMRXPZ",
        "colab": {
          "base_uri": "https://localhost:8080/"
        },
        "outputId": "d101967d-8a3d-493d-ee12-bd8cbf79d112"
      },
      "source": [
        "def collate_batch(batch):\n",
        "    label_list, text_list, offsets = [], [], [0]\n",
        "    for (_label, _text) in batch:\n",
        "        label_list.append(label_pipeline(_label))\n",
        "        processed_text = torch.tensor(text_pipeline(_text), dtype=torch.int64)\n",
        "        text_list.append(processed_text)\n",
        "        offsets.append(processed_text.size(0))\n",
        "    label_list = torch.tensor(label_list, dtype=torch.int64)\n",
        "    offsets = torch.tensor(offsets[:-1]).cumsum(dim=0)\n",
        "    text_list = torch.cat(text_list)\n",
        "    return label_list.to(torch.device('cuda')), text_list.to(torch.device('cuda')), offsets.to(torch.device('cuda'))\n",
        "\n",
        "try:\n",
        "    ag_train, ag_test = dset.AG_NEWS('/content/drive/My Drive/CSCI 360 Spring 2021/datasets/AG_news')\n",
        "    train_dataset = list(ag_train)\n",
        "    test_dataset = list(ag_test)\n",
        "    num_train = int(len(train_dataset) * 0.95)\n",
        "    split_train, split_valid = random_split(train_dataset, [num_train, len(train_dataset) - num_train])\n",
        "    dataloader_train = DataLoader(split_train, batch_size=64, shuffle=True, collate_fn=collate_batch)\n",
        "    dataloader_valid = DataLoader(split_valid, batch_size=64, shuffle=True, collate_fn=collate_batch)\n",
        "    dataloader_test = DataLoader(test_dataset, batch_size=64, shuffle=False, collate_fn=collate_batch)\n",
        "    \n",
        "except:\n",
        "    ag_train, ag_test = dset.AG_NEWS('./datasets/AG_news')\n",
        "    train_dataset = list(ag_train)\n",
        "    test_dataset = list(ag_test)\n",
        "    num_train = int(len(train_dataset) * 0.95)\n",
        "    split_train, split_valid = random_split(train_dataset, [num_train, len(train_dataset) - num_train])\n",
        "    dataloader_train = DataLoader(split_train, batch_size=64, shuffle=True, collate_fn=collate_batch)\n",
        "    dataloader_valid = DataLoader(split_valid, batch_size=64, shuffle=True, collate_fn=collate_batch)\n",
        "    dataloader_test = DataLoader(test_dataset, batch_size=64, shuffle=False, collate_fn=collate_batch)"
      ],
      "execution_count": 117,
      "outputs": [
        {
          "output_type": "stream",
          "text": [
            "train.csv: 29.5MB [00:00, 99.8MB/s]\n",
            "test.csv: 1.86MB [00:00, 50.5MB/s]                  \n"
          ],
          "name": "stderr"
        }
      ]
    },
    {
      "cell_type": "markdown",
      "metadata": {
        "id": "PMEyErFXIAFm"
      },
      "source": [
        "## Question 4) Recurrent Neural Network - 5 Points"
      ]
    },
    {
      "cell_type": "markdown",
      "metadata": {
        "id": "JJUf-SSv3mG5"
      },
      "source": [
        "Here is an example for typical NLP data processing with tokenizer and vocabulary. The first step is to build a vocabulary with the raw training dataset. Users can have a customized vocab by setting up arguments in the constructor of the Vocab class. The text pipeline converts a text string into a list of integers based on the lookup table defined in the vocabulary. \n",
        "The label pipeline converts the label into integers."
      ]
    },
    {
      "cell_type": "code",
      "metadata": {
        "id": "VJawLIiM3mG5"
      },
      "source": [
        "# Verify that CUDA is properly configured and you have a GPU available\n",
        "torch.cuda.is_available()\n",
        "\n",
        "import copy\n",
        "dtype = torch.cuda.FloatTensor\n",
        "\n",
        "tokenizer = get_tokenizer('basic_english')\n",
        "counter = Counter()\n",
        "for (label, line) in train_dataset:\n",
        "    counter.update(tokenizer(line))\n",
        "vocab = Vocab(counter, min_freq=1)\n",
        "text_pipeline = lambda x: [vocab[token] for token in tokenizer(x)]\n",
        "label_pipeline = lambda x: int(x) - 1"
      ],
      "execution_count": 119,
      "outputs": []
    },
    {
      "cell_type": "markdown",
      "metadata": {
        "id": "QCL1JkiZ3mG6"
      },
      "source": [
        "The model is composed of the nn.EmbeddingBag layer plus a linear layer for the classification purpose. nn.EmbeddingBag with the default mode of “mean” computes the mean value of a “bag” of embeddings. Although the text entries here have different lengths, nn.EmbeddingBag module requires no padding here since the text lengths are saved in offsets.\n",
        "\n",
        "Additionally, since nn.EmbeddingBag accumulates the average across the embeddings on the fly, nn.EmbeddingBag can enhance the performance and memory efficiency to process a sequence of tensors.\n",
        "\n",
        "Besides this, the model consists of a singular linear layer as a simple starting model. Later, you can make a model with more advanced layers, like RNN, LSTM, and GRU layers."
      ]
    },
    {
      "cell_type": "code",
      "metadata": {
        "id": "R9skP2OH3mG6"
      },
      "source": [
        "# Here's where we define the architecture of the model... \n",
        "# We use nn.module instead of sequential, so we have to define both init layers\n",
        "# and the forward function. Defining the forward function allows you to call the\n",
        "# class and run the model step by step.\n",
        "class TextClassificationModel(nn.Module):\n",
        "    \n",
        "    def __init__(self, vocab_size, embed_dim, num_class):\n",
        "        super(TextClassificationModel, self).__init__()\n",
        "        self.embedding = nn.EmbeddingBag(vocab_size, embed_dim, sparse=True)\n",
        "        self.fc = nn.Linear(embed_dim, num_class)\n",
        "        \n",
        "    def forward(self, text, offsets):\n",
        "        embedded = self.embedding(text, offsets)\n",
        "        return self.fc(embedded)"
      ],
      "execution_count": 120,
      "outputs": []
    },
    {
      "cell_type": "code",
      "metadata": {
        "id": "KxmK61If3mG6"
      },
      "source": [
        "import time\n",
        "\n",
        "def train(model, dataloader):\n",
        "    model.train()\n",
        "    total_acc, total_count = 0, 0\n",
        "    log_interval = 500\n",
        "    start_time = time.time()\n",
        "\n",
        "    for idx, (label, text, offsets) in enumerate(dataloader):\n",
        "        optimizer.zero_grad()\n",
        "        predited_label = model(text, offsets)\n",
        "        loss = criterion(predited_label, label)\n",
        "        loss.backward()\n",
        "        torch.nn.utils.clip_grad_norm_(model.parameters(), 0.1)\n",
        "        optimizer.step()\n",
        "        total_acc += (predited_label.argmax(1) == label).sum().item()\n",
        "        total_count += label.size(0)\n",
        "        if idx % log_interval == 0 and idx > 0:\n",
        "            elapsed = time.time() - start_time\n",
        "            print('| epoch {:3d} | {:5d}/{:5d} batches '\n",
        "                  '| accuracy {:8.3f}'.format(epoch, idx, len(dataloader),\n",
        "                                              total_acc/total_count))\n",
        "            total_acc, total_count = 0, 0\n",
        "            start_time = time.time()\n",
        "\n",
        "def evaluate(model, dataloader):\n",
        "    model.eval()\n",
        "    total_acc, total_count = 0, 0\n",
        "\n",
        "    with torch.no_grad():\n",
        "        for idx, (label, text, offsets) in enumerate(dataloader):\n",
        "            predited_label = model(text, offsets)\n",
        "            loss = criterion(predited_label, label)\n",
        "            total_acc += (predited_label.argmax(1) == label).sum().item()\n",
        "            total_count += label.size(0)\n",
        "    return total_acc/total_count"
      ],
      "execution_count": 121,
      "outputs": []
    },
    {
      "cell_type": "markdown",
      "metadata": {
        "id": "GaqHHLFA3mG6"
      },
      "source": [
        "Below, training is done using the simple neural network. This should get decent accuracy (~85%)."
      ]
    },
    {
      "cell_type": "code",
      "metadata": {
        "id": "Aq2kVTYDIAFn",
        "colab": {
          "base_uri": "https://localhost:8080/"
        },
        "outputId": "b799f9ab-50b9-4459-fbd5-0795dcea5613"
      },
      "source": [
        "num_class = len(set([label for (label, text) in train_dataset]))\n",
        "vocab_size = len(vocab)\n",
        "emsize = 64\n",
        "model = TextClassificationModel(vocab_size, emsize, num_class).to(torch.device('cuda'))\n",
        "\n",
        "EPOCHS = 3 # epoch\n",
        "LR = 5  # learning rate\n",
        "criterion = torch.nn.CrossEntropyLoss()\n",
        "optimizer = torch.optim.SGD(model.parameters(), lr=LR)\n",
        "scheduler = torch.optim.lr_scheduler.StepLR(optimizer, 1.0, gamma=0.1)\n",
        "total_accu = None\n",
        "\n",
        "for epoch in range(1, EPOCHS + 1):\n",
        "    epoch_start_time = time.time()\n",
        "    train(model, dataloader_train)\n",
        "    accu_val = evaluate(model, dataloader_valid)\n",
        "    if total_accu is not None and total_accu > accu_val:\n",
        "        scheduler.step()\n",
        "    else:\n",
        "        total_accu = accu_val\n",
        "    print('-' * 59)\n",
        "    print('| end of epoch {:3d} | time: {:5.2f}s | '\n",
        "          'valid accuracy {:8.3f} '.format(epoch,\n",
        "                                           time.time() - epoch_start_time,\n",
        "                                           accu_val))\n",
        "    print('-' * 59)"
      ],
      "execution_count": 122,
      "outputs": [
        {
          "output_type": "stream",
          "text": [
            "| epoch   1 |   500/ 1782 batches | accuracy    0.587\n",
            "| epoch   1 |  1000/ 1782 batches | accuracy    0.741\n",
            "| epoch   1 |  1500/ 1782 batches | accuracy    0.790\n",
            "-----------------------------------------------------------\n",
            "| end of epoch   1 | time:  8.80s | valid accuracy    0.824 \n",
            "-----------------------------------------------------------\n",
            "| epoch   2 |   500/ 1782 batches | accuracy    0.831\n",
            "| epoch   2 |  1000/ 1782 batches | accuracy    0.850\n",
            "| epoch   2 |  1500/ 1782 batches | accuracy    0.854\n",
            "-----------------------------------------------------------\n",
            "| end of epoch   2 | time:  8.61s | valid accuracy    0.857 \n",
            "-----------------------------------------------------------\n",
            "| epoch   3 |   500/ 1782 batches | accuracy    0.868\n",
            "| epoch   3 |  1000/ 1782 batches | accuracy    0.876\n",
            "| epoch   3 |  1500/ 1782 batches | accuracy    0.878\n",
            "-----------------------------------------------------------\n",
            "| end of epoch   3 | time:  8.63s | valid accuracy    0.873 \n",
            "-----------------------------------------------------------\n"
          ],
          "name": "stdout"
        }
      ]
    },
    {
      "cell_type": "code",
      "metadata": {
        "id": "VmHljFNK3mG7",
        "colab": {
          "base_uri": "https://localhost:8080/"
        },
        "outputId": "25f3bdfa-b412-41f0-9257-c511202f894a"
      },
      "source": [
        "print('Checking the results of test dataset.')\n",
        "accu_test = evaluate(model, dataloader_test)\n",
        "print('test accuracy {:8.3f}'.format(accu_test))"
      ],
      "execution_count": 123,
      "outputs": [
        {
          "output_type": "stream",
          "text": [
            "Checking the results of test dataset.\n",
            "test accuracy    0.869\n"
          ],
          "name": "stdout"
        }
      ]
    },
    {
      "cell_type": "markdown",
      "metadata": {
        "id": "tml-CuGS3mG8"
      },
      "source": [
        "Some tips on creating your own RNN model:\n",
        "\n",
        "0. Use different recurrent layers from torchtext and torch.nn, such as nn.RNN, nn.LSTM, and nn.GRU.\n",
        "1. Similar concepts in the CNN can be used in terms of training, optimizers, dropout, layers, and learning rates.\n",
        "2. Feel free to modify the model as you wish- keep in mind the train and evaluate functions will stay the same, but the model can be changed a bit depending on if you come up with a better way to feed the textual data into the forward function.\n",
        "3. You should be able to get above **88%** accuracy.\n",
        "\n",
        "This part is expectedly slightly harder than just using the nn.Sequential framework, as you need to directly deal with the data fed into the model, but the general pattern should stay the same, as we still use Pytorch's framework. The big difference is that you must keep an eye on how the forward function works in tandem of the fed inputs into that function."
      ]
    },
    {
      "cell_type": "code",
      "metadata": {
        "id": "9iZjMBXg3mG8"
      },
      "source": [
        "# Train your model here, and make sure the output of the cell after this cell is the accuracy of your best model on the \n",
        "# train, val, and test sets. Here's some code to get you started. The output of this cell should be the training\n",
        "# and validation accuracy on your best model (measured by validation accuracy).\n",
        "\n",
        "'''Fill in the model below'''\n",
        "import torch.autograd as autograd\n",
        "\n",
        "class TextClassificationModel(nn.Module):\n",
        "    \n",
        "    def __init__(self, vocab_size, embed_dim, num_class):\n",
        "        super(TextClassificationModel, self).__init__()\n",
        "        self.embedding = nn.EmbeddingBag(vocab_size, embed_dim, sparse=True)\n",
        "        self.fc = nn.Linear(embed_dim, num_class)\n",
        "        \n",
        "    def forward(self, text, offsets):\n",
        "        embedded = self.embedding(text, offsets)\n",
        "        return self.fc(embedded)"
      ],
      "execution_count": 124,
      "outputs": []
    },
    {
      "cell_type": "code",
      "metadata": {
        "id": "REgNQSgN3mG8",
        "colab": {
          "base_uri": "https://localhost:8080/"
        },
        "outputId": "b2f5db0f-a891-44fd-ba51-cc5ed0e61400"
      },
      "source": [
        "num_class = len(set([label for (label, text) in train_dataset]))\n",
        "vocab_size = len(vocab)\n",
        "emsize = 64\n",
        "\n",
        "EPOCHS = 15 # epoch\n",
        "LR = 5  # learning rate\n",
        "model = TextClassificationModel(vocab_size, emsize, num_class).to(torch.device('cuda'))\n",
        "criterion = torch.nn.CrossEntropyLoss()\n",
        "optimizer = torch.optim.SGD(model.parameters(), lr=LR)\n",
        "scheduler = torch.optim.lr_scheduler.StepLR(optimizer, 1.0, gamma=0.1)\n",
        "total_accu = None\n",
        "\n",
        "for epoch in range(1, EPOCHS + 1):\n",
        "    epoch_start_time = time.time()\n",
        "    train(model, dataloader_train)\n",
        "    accu_val = evaluate(model, dataloader_valid)\n",
        "    if total_accu is not None and total_accu > accu_val:\n",
        "        scheduler.step()\n",
        "    else:\n",
        "        total_accu = accu_val\n",
        "    print('-' * 59)\n",
        "    print('| end of epoch {:3d} | time: {:5.2f}s | '\n",
        "          'valid accuracy {:8.3f} '.format(epoch,\n",
        "                                           time.time() - epoch_start_time,\n",
        "                                           accu_val))\n",
        "    print('-' * 59)"
      ],
      "execution_count": 125,
      "outputs": [
        {
          "output_type": "stream",
          "text": [
            "| epoch   1 |   500/ 1782 batches | accuracy    0.576\n",
            "| epoch   1 |  1000/ 1782 batches | accuracy    0.743\n",
            "| epoch   1 |  1500/ 1782 batches | accuracy    0.793\n",
            "-----------------------------------------------------------\n",
            "| end of epoch   1 | time:  8.73s | valid accuracy    0.827 \n",
            "-----------------------------------------------------------\n",
            "| epoch   2 |   500/ 1782 batches | accuracy    0.836\n",
            "| epoch   2 |  1000/ 1782 batches | accuracy    0.847\n",
            "| epoch   2 |  1500/ 1782 batches | accuracy    0.856\n",
            "-----------------------------------------------------------\n",
            "| end of epoch   2 | time:  8.68s | valid accuracy    0.866 \n",
            "-----------------------------------------------------------\n",
            "| epoch   3 |   500/ 1782 batches | accuracy    0.870\n",
            "| epoch   3 |  1000/ 1782 batches | accuracy    0.877\n",
            "| epoch   3 |  1500/ 1782 batches | accuracy    0.878\n",
            "-----------------------------------------------------------\n",
            "| end of epoch   3 | time:  8.64s | valid accuracy    0.874 \n",
            "-----------------------------------------------------------\n",
            "| epoch   4 |   500/ 1782 batches | accuracy    0.885\n",
            "| epoch   4 |  1000/ 1782 batches | accuracy    0.889\n",
            "| epoch   4 |  1500/ 1782 batches | accuracy    0.890\n",
            "-----------------------------------------------------------\n",
            "| end of epoch   4 | time:  8.71s | valid accuracy    0.882 \n",
            "-----------------------------------------------------------\n",
            "| epoch   5 |   500/ 1782 batches | accuracy    0.897\n",
            "| epoch   5 |  1000/ 1782 batches | accuracy    0.896\n",
            "| epoch   5 |  1500/ 1782 batches | accuracy    0.899\n",
            "-----------------------------------------------------------\n",
            "| end of epoch   5 | time:  8.67s | valid accuracy    0.890 \n",
            "-----------------------------------------------------------\n",
            "| epoch   6 |   500/ 1782 batches | accuracy    0.905\n",
            "| epoch   6 |  1000/ 1782 batches | accuracy    0.906\n",
            "| epoch   6 |  1500/ 1782 batches | accuracy    0.904\n",
            "-----------------------------------------------------------\n",
            "| end of epoch   6 | time:  8.66s | valid accuracy    0.893 \n",
            "-----------------------------------------------------------\n",
            "| epoch   7 |   500/ 1782 batches | accuracy    0.910\n",
            "| epoch   7 |  1000/ 1782 batches | accuracy    0.911\n",
            "| epoch   7 |  1500/ 1782 batches | accuracy    0.911\n",
            "-----------------------------------------------------------\n",
            "| end of epoch   7 | time:  8.65s | valid accuracy    0.896 \n",
            "-----------------------------------------------------------\n",
            "| epoch   8 |   500/ 1782 batches | accuracy    0.915\n",
            "| epoch   8 |  1000/ 1782 batches | accuracy    0.913\n",
            "| epoch   8 |  1500/ 1782 batches | accuracy    0.915\n",
            "-----------------------------------------------------------\n",
            "| end of epoch   8 | time:  8.69s | valid accuracy    0.891 \n",
            "-----------------------------------------------------------\n",
            "| epoch   9 |   500/ 1782 batches | accuracy    0.922\n",
            "| epoch   9 |  1000/ 1782 batches | accuracy    0.923\n",
            "| epoch   9 |  1500/ 1782 batches | accuracy    0.923\n",
            "-----------------------------------------------------------\n",
            "| end of epoch   9 | time:  8.66s | valid accuracy    0.898 \n",
            "-----------------------------------------------------------\n",
            "| epoch  10 |   500/ 1782 batches | accuracy    0.924\n",
            "| epoch  10 |  1000/ 1782 batches | accuracy    0.924\n",
            "| epoch  10 |  1500/ 1782 batches | accuracy    0.925\n",
            "-----------------------------------------------------------\n",
            "| end of epoch  10 | time:  8.66s | valid accuracy    0.897 \n",
            "-----------------------------------------------------------\n",
            "| epoch  11 |   500/ 1782 batches | accuracy    0.926\n",
            "| epoch  11 |  1000/ 1782 batches | accuracy    0.924\n",
            "| epoch  11 |  1500/ 1782 batches | accuracy    0.925\n",
            "-----------------------------------------------------------\n",
            "| end of epoch  11 | time:  8.64s | valid accuracy    0.896 \n",
            "-----------------------------------------------------------\n",
            "| epoch  12 |   500/ 1782 batches | accuracy    0.924\n",
            "| epoch  12 |  1000/ 1782 batches | accuracy    0.927\n",
            "| epoch  12 |  1500/ 1782 batches | accuracy    0.924\n",
            "-----------------------------------------------------------\n",
            "| end of epoch  12 | time:  8.71s | valid accuracy    0.896 \n",
            "-----------------------------------------------------------\n",
            "| epoch  13 |   500/ 1782 batches | accuracy    0.925\n",
            "| epoch  13 |  1000/ 1782 batches | accuracy    0.926\n",
            "| epoch  13 |  1500/ 1782 batches | accuracy    0.925\n",
            "-----------------------------------------------------------\n",
            "| end of epoch  13 | time:  8.66s | valid accuracy    0.896 \n",
            "-----------------------------------------------------------\n",
            "| epoch  14 |   500/ 1782 batches | accuracy    0.926\n",
            "| epoch  14 |  1000/ 1782 batches | accuracy    0.926\n",
            "| epoch  14 |  1500/ 1782 batches | accuracy    0.925\n",
            "-----------------------------------------------------------\n",
            "| end of epoch  14 | time:  8.67s | valid accuracy    0.896 \n",
            "-----------------------------------------------------------\n",
            "| epoch  15 |   500/ 1782 batches | accuracy    0.925\n",
            "| epoch  15 |  1000/ 1782 batches | accuracy    0.926\n",
            "| epoch  15 |  1500/ 1782 batches | accuracy    0.925\n",
            "-----------------------------------------------------------\n",
            "| end of epoch  15 | time:  8.73s | valid accuracy    0.896 \n",
            "-----------------------------------------------------------\n"
          ],
          "name": "stdout"
        }
      ]
    },
    {
      "cell_type": "code",
      "metadata": {
        "id": "VQR04qPY3mG9",
        "colab": {
          "base_uri": "https://localhost:8080/"
        },
        "outputId": "e10aa14a-1f40-4534-96e6-6ed8cfe97834"
      },
      "source": [
        "print('Checking the results of test dataset.')\n",
        "accu_test = evaluate(model, dataloader_test)\n",
        "print('test accuracy {:8.3f}'.format(accu_test))\n",
        "assert accu_test >= 0.88"
      ],
      "execution_count": 126,
      "outputs": [
        {
          "output_type": "stream",
          "text": [
            "Checking the results of test dataset.\n",
            "test accuracy    0.888\n"
          ],
          "name": "stdout"
        }
      ]
    },
    {
      "cell_type": "code",
      "metadata": {
        "deletable": false,
        "editable": false,
        "nbgrader": {
          "cell_type": "code",
          "checksum": "8f8747474df44cd7e166436435a32d10",
          "grade": true,
          "grade_id": "uih389eorw5ngyuio9k",
          "locked": true,
          "points": 5,
          "schema_version": 3,
          "solution": false,
          "task": false
        },
        "id": "gseWPpRw3mG9"
      },
      "source": [
        ""
      ],
      "execution_count": null,
      "outputs": []
    },
    {
      "cell_type": "markdown",
      "metadata": {
        "id": "h-G7Mwv93mG9"
      },
      "source": [
        "We hope you enjoyed this assignment, this assignment was mostly built from scratch/pieces of other previous homeworks we had experience with or researched online. The material learned in this assignment is relevant to different parts of the data science community. Most likely not all of you will become AI researchers or data scientists, but perhaps little portions of AI can be used in future work, such as implementing simple features in other interdisciplinary fields. For example, if you had built a buy and sell application, using Pytorch to create a machine learning recommendation system is now feasible with the newfound knowledge gained in this project. Hopefully this project was useful in that perspective and gives a introduction to data science topics."
      ]
    },
    {
      "cell_type": "markdown",
      "metadata": {
        "id": "wGaaPkmtIAFn"
      },
      "source": [
        "### Submission: Turn in just this file with your editted code blocks."
      ]
    },
    {
      "cell_type": "code",
      "metadata": {
        "id": "kecdjdD78zmD"
      },
      "source": [
        "class kNN_classifier:\n",
        "    def __init__(self, X, Y, K=1):\n",
        "        self.train(X, Y, K)\n",
        "\n",
        "    def train(self, X, Y, K=1):\n",
        "        self.X = np.asarray(X)\n",
        "        self.Y = np.asarray(Y)\n",
        "        self.K = K\n",
        "        self.classes = np.unique(Y)\n",
        "\n",
        "    def predict(self, Xtest):\n",
        "        '''Implement this function'''\n",
        "        y_pred = []\n",
        "        for x in Xtest:\n",
        "          distance_list = self.distance(x, X_train)\n",
        "          distance_index = distance_list.argsort()\n",
        "          k_distance = distance_index[:self.K]\n",
        "          y_train = np.asarray(Y_train)\n",
        "          k_class = Y_train[k_distance]\n",
        "          values, counts = np.unique(k_class, return_counts=True)\n",
        "          x_class = values[np.argmax(counts)]\n",
        "          y_pred.append(x_class)\n",
        "        return y_pred\n",
        "        #pass\n",
        "\n",
        "    def evaluate(self, Ypred, Ytest):\n",
        "        accuracy = 0\n",
        "        for predicted, true_val in zip(Ypred, Ytest):\n",
        "            if predicted == true_val:\n",
        "                accuracy += 1\n",
        "        return accuracy / Ytest.shape[0]\n",
        "  \n",
        "    def distance(self, X, Y):\n",
        "        return np.sqrt(np.sum((X-Y)**2, axis=1))"
      ],
      "execution_count": null,
      "outputs": []
    },
    {
      "cell_type": "code",
      "metadata": {
        "colab": {
          "base_uri": "https://localhost:8080/"
        },
        "id": "9qJHFu_b9-JS",
        "outputId": "dba2edfd-4706-449d-a7c2-30313d99f2aa"
      },
      "source": [
        "kNN = kNN_classifier(X_train, Y_train, 1)\n",
        "pred = kNN.predict(X_test)\n",
        "eval_results = kNN.evaluate(pred, Y_test)\n",
        "print(eval_results)\n",
        "assert eval_results == 1.0\n",
        "\n",
        "kNN = kNN_classifier(X_train, Y_train, 5)\n",
        "pred = kNN.predict(X_test)\n",
        "eval_results = kNN.evaluate(pred, Y_test)\n",
        "print(eval_results)\n",
        "assert eval_results >= 0.97\n",
        "\n",
        "kNN = kNN_classifier(X_train, Y_train, 10)\n",
        "pred = kNN.predict(X_test)\n",
        "eval_results = kNN.evaluate(pred, Y_test)\n",
        "print(eval_results)\n",
        "assert eval_results >= 0.90\n",
        "\n",
        "kNN = kNN_classifier(X_train, Y_train, 35)\n",
        "pred = kNN.predict(X_test)\n",
        "eval_results = kNN.evaluate(pred, Y_test)\n",
        "print(eval_results)\n",
        "assert eval_results >= 0.85\n",
        "\n",
        "kNN = kNN_classifier(X_train, Y_train, 50)\n",
        "pred = kNN.predict(X_test)\n",
        "eval_results = kNN.evaluate(pred, Y_test)\n",
        "print(eval_results)\n",
        "assert eval_results >= 0.5"
      ],
      "execution_count": null,
      "outputs": [
        {
          "output_type": "stream",
          "text": [
            "1.0\n",
            "1.0\n",
            "0.9736842105263158\n",
            "0.9736842105263158\n",
            "0.868421052631579\n"
          ],
          "name": "stdout"
        }
      ]
    },
    {
      "cell_type": "code",
      "metadata": {
        "id": "24e7Kb039EVT"
      },
      "source": [
        "import sklearn\n",
        "from sklearn.ensemble import VotingClassifier\n",
        "from sklearn.neighbors import KNeighborsClassifier\n",
        "from sklearn.tree import DecisionTreeClassifier\n",
        "from sklearn.linear_model import LogisticRegression\n",
        "from sklearn.naive_bayes import GaussianNB\n",
        "from sklearn.ensemble import RandomForestClassifier\n",
        "'''Import all necessary sklearn packages- only use sklearn modules.'''\n",
        "\n",
        "def ensemble_ver_A():\n",
        "    '''Implement this function'''\n",
        "    return VotingClassifier(estimators=[('lr', LogisticRegression(random_state=1)), ('rf', RandomForestClassifier(n_estimators=50, random_state=1)), ('gnb', GaussianNB())], voting='hard')\n",
        "    #pass\n",
        "\n",
        "def ensemble_ver_B():\n",
        "    '''Implement this function'''\n",
        "    return VotingClassifier(estimators=[('lr', LogisticRegression(random_state=1)), ('dt', DecisionTreeClassifier(max_depth=5)), ('gnb', GaussianNB())], voting='soft')\n",
        "    #pass\n",
        "\n",
        "def ensemble_ver_C():\n",
        "    '''Implement this function'''\n",
        "    return VotingClassifier(estimators=[('knn', KNeighborsClassifier(n_neighbors=5)), ('dt', DecisionTreeClassifier(max_depth=5)), ('gnb', GaussianNB())], voting='soft')\n",
        "    #pass"
      ],
      "execution_count": null,
      "outputs": []
    },
    {
      "cell_type": "code",
      "metadata": {
        "colab": {
          "base_uri": "https://localhost:8080/"
        },
        "id": "1CbO2kNo-M28",
        "outputId": "0f6cfd63-8f94-4fc1-faa4-7c17b999a2ad"
      },
      "source": [
        "ensemble_A = ensemble_ver_A()\n",
        "ensemble_A_fit = ensemble_A.fit(X_train, Y_train)\n",
        "ensemble_A_pred = ensemble_A.predict(X_test)\n",
        "eval_results = evaluate(ensemble_A_pred, Y_test)\n",
        "print(eval_results)\n",
        "assert eval_results >= 0.62\n",
        "\n",
        "ensemble_B = ensemble_ver_B()\n",
        "ensemble_B_fit = ensemble_B.fit(X_train, Y_train)\n",
        "ensemble_B_pred = ensemble_B.predict(X_test)\n",
        "eval_results = evaluate(ensemble_B_pred, Y_test)\n",
        "print(eval_results)\n",
        "assert eval_results >= 0.62\n",
        "\n",
        "ensemble_C = ensemble_ver_C()\n",
        "ensemble_C_fit = ensemble_C.fit(X_train, Y_train)\n",
        "ensemble_C_pred = ensemble_C.predict(X_test)\n",
        "eval_results = evaluate(ensemble_C_pred, Y_test)\n",
        "print(eval_results)\n",
        "assert eval_results >= 0.62"
      ],
      "execution_count": null,
      "outputs": [
        {
          "output_type": "stream",
          "text": [
            "0.7657142857142857\n",
            "0.7314285714285714\n",
            "0.7028571428571428\n"
          ],
          "name": "stdout"
        }
      ]
    },
    {
      "cell_type": "code",
      "metadata": {
        "colab": {
          "base_uri": "https://localhost:8080/"
        },
        "id": "SGvSdgWw9dPJ",
        "outputId": "98b51f70-1b9e-4a74-e43b-65a38c74e0de"
      },
      "source": [
        "# Train your model here, and make sure the output of this cell is the accuracy of your best model on the \n",
        "# train, val, and test sets. Here's some code to get you started. The output of this cell should be the training\n",
        "# and validation accuracy on your best model (measured by validation accuracy).\n",
        "\n",
        "'''Fill in the model below'''\n",
        "model = nn.Sequential(\n",
        "                nn.Conv2d(3, 32, kernel_size=3, stride=1, padding=1),\n",
        "                nn.ReLU(inplace=True),\n",
        "                nn.BatchNorm2d(32),\n",
        "                nn.Dropout(p=0.2),\n",
        "                nn.MaxPool2d(2, stride=2),\n",
        "\n",
        "                nn.Conv2d(32, 64, kernel_size=3, stride=1, padding=1),\n",
        "                nn.ReLU(inplace=True),\n",
        "                nn.BatchNorm2d(64),\n",
        "                nn.Dropout(p=0.2),\n",
        "                nn.MaxPool2d(2, stride=2),\n",
        "           \n",
        "\n",
        "                nn.Conv2d(64, 128, kernel_size=3, stride=1, padding=1),\n",
        "                nn.ReLU(inplace=True),\n",
        "                nn.BatchNorm2d(128),\n",
        "                nn.Dropout(p=0.2),\n",
        "                nn.MaxPool2d(2, stride=2),\n",
        "\n",
        "                nn.Conv2d(128, 256, kernel_size=3, stride=1, padding=1),\n",
        "                nn.ReLU(inplace=True),\n",
        "                nn.BatchNorm2d(256),\n",
        "                nn.Dropout(p=0.2),\n",
        "                nn.MaxPool2d(2, stride=2),\n",
        "\n",
        "                Flatten(), # see above for explanation\n",
        "                #nn.Linear(256, 10) # affine layer\n",
        "            )\n",
        "######\n",
        "\n",
        "gpu = copy.deepcopy(model).type(dtype)\n",
        "\n",
        "loss_fn = nn.CrossEntropyLoss()\n",
        "#lrates = [1e-2, 3e-2, 5e-2, 7e-2, 1e-3, 3e-3, 5e-3, 7e-3, 1e-4, 3e-4, 5e-4, 7e-4, 1e-5, 3e-5, 5e-5, 7e-5]\n",
        "#for i in lrates:\n",
        "#  optimizer = optim.Adam(gpu.parameters(), lr=i)\n",
        "\n",
        "#  torch.cuda.random.manual_seed(12345)\n",
        "#  gpu.apply(reset)\n",
        "#  train(gpu, loss_fn, optimizer, num_epochs=10)\n",
        "#  check_accuracy(gpu, loader_val)\n",
        "\n",
        "optimizer = optim.Adam(gpu.parameters(), lr=1e-4)\n",
        "\n",
        "torch.cuda.random.manual_seed(12345)\n",
        "gpu.apply(reset)\n",
        "train(gpu, loss_fn, optimizer, num_epochs=50)\n",
        "train_acc = check_accuracy(gpu, loader_val)"
      ],
      "execution_count": null,
      "outputs": [
        {
          "output_type": "stream",
          "text": [
            "Starting epoch 1 / 50\n",
            "t = 100, loss = 5.4414\n",
            "t = 200, loss = 5.3006\n",
            "t = 300, loss = 4.9143\n",
            "t = 400, loss = 4.7722\n",
            "t = 500, loss = 4.0870\n",
            "t = 600, loss = 4.5185\n",
            "t = 700, loss = 4.6564\n",
            "Starting epoch 2 / 50\n",
            "t = 100, loss = 3.8737\n",
            "t = 200, loss = 4.2109\n",
            "t = 300, loss = 4.1916\n",
            "t = 400, loss = 3.8775\n",
            "t = 500, loss = 3.6183\n",
            "t = 600, loss = 4.2588\n",
            "t = 700, loss = 4.0268\n",
            "Starting epoch 3 / 50\n",
            "t = 100, loss = 3.5033\n",
            "t = 200, loss = 3.6379\n",
            "t = 300, loss = 3.8184\n",
            "t = 400, loss = 3.0603\n",
            "t = 500, loss = 3.1436\n",
            "t = 600, loss = 3.6240\n",
            "t = 700, loss = 3.4568\n",
            "Starting epoch 4 / 50\n",
            "t = 100, loss = 3.1686\n",
            "t = 200, loss = 3.7713\n",
            "t = 300, loss = 3.4853\n",
            "t = 400, loss = 2.6246\n",
            "t = 500, loss = 2.8824\n",
            "t = 600, loss = 3.1121\n",
            "t = 700, loss = 3.1452\n",
            "Starting epoch 5 / 50\n",
            "t = 100, loss = 2.5325\n",
            "t = 200, loss = 3.3244\n",
            "t = 300, loss = 2.7966\n",
            "t = 400, loss = 2.5842\n",
            "t = 500, loss = 2.6405\n",
            "t = 600, loss = 2.6663\n",
            "t = 700, loss = 2.8438\n",
            "Starting epoch 6 / 50\n",
            "t = 100, loss = 2.5980\n",
            "t = 200, loss = 2.6340\n",
            "t = 300, loss = 3.2593\n",
            "t = 400, loss = 2.6884\n",
            "t = 500, loss = 2.3722\n",
            "t = 600, loss = 2.2657\n",
            "t = 700, loss = 2.7996\n",
            "Starting epoch 7 / 50\n",
            "t = 100, loss = 2.0635\n",
            "t = 200, loss = 3.2504\n",
            "t = 300, loss = 2.5097\n",
            "t = 400, loss = 2.2252\n",
            "t = 500, loss = 2.3508\n",
            "t = 600, loss = 2.3340\n",
            "t = 700, loss = 2.6488\n",
            "Starting epoch 8 / 50\n",
            "t = 100, loss = 1.9472\n",
            "t = 200, loss = 2.3147\n",
            "t = 300, loss = 2.3342\n",
            "t = 400, loss = 1.9448\n",
            "t = 500, loss = 2.1210\n",
            "t = 600, loss = 1.7554\n",
            "t = 700, loss = 2.2798\n",
            "Starting epoch 9 / 50\n",
            "t = 100, loss = 2.0763\n",
            "t = 200, loss = 2.0483\n",
            "t = 300, loss = 2.2552\n",
            "t = 400, loss = 1.9692\n",
            "t = 500, loss = 1.7309\n",
            "t = 600, loss = 1.9633\n",
            "t = 700, loss = 2.3487\n",
            "Starting epoch 10 / 50\n",
            "t = 100, loss = 1.5487\n",
            "t = 200, loss = 1.9659\n",
            "t = 300, loss = 2.0895\n",
            "t = 400, loss = 1.5411\n",
            "t = 500, loss = 1.6599\n",
            "t = 600, loss = 2.0089\n",
            "t = 700, loss = 1.9845\n",
            "Starting epoch 11 / 50\n",
            "t = 100, loss = 1.5711\n",
            "t = 200, loss = 1.8983\n",
            "t = 300, loss = 2.0545\n",
            "t = 400, loss = 1.8816\n",
            "t = 500, loss = 1.5993\n",
            "t = 600, loss = 1.5599\n",
            "t = 700, loss = 1.9035\n",
            "Starting epoch 12 / 50\n",
            "t = 100, loss = 1.3898\n",
            "t = 200, loss = 1.6518\n",
            "t = 300, loss = 1.8999\n",
            "t = 400, loss = 1.7303\n",
            "t = 500, loss = 1.4883\n",
            "t = 600, loss = 1.5157\n",
            "t = 700, loss = 1.6044\n",
            "Starting epoch 13 / 50\n",
            "t = 100, loss = 1.3839\n",
            "t = 200, loss = 1.6483\n",
            "t = 300, loss = 1.9711\n",
            "t = 400, loss = 1.1926\n",
            "t = 500, loss = 1.5057\n",
            "t = 600, loss = 1.6883\n",
            "t = 700, loss = 1.5507\n",
            "Starting epoch 14 / 50\n",
            "t = 100, loss = 1.6248\n",
            "t = 200, loss = 1.5443\n",
            "t = 300, loss = 1.5648\n",
            "t = 400, loss = 1.4251\n",
            "t = 500, loss = 1.2605\n",
            "t = 600, loss = 1.4313\n",
            "t = 700, loss = 1.3820\n",
            "Starting epoch 15 / 50\n",
            "t = 100, loss = 1.2363\n",
            "t = 200, loss = 1.3902\n",
            "t = 300, loss = 1.7655\n",
            "t = 400, loss = 1.2218\n",
            "t = 500, loss = 1.2462\n",
            "t = 600, loss = 1.3747\n",
            "t = 700, loss = 1.7038\n",
            "Starting epoch 16 / 50\n",
            "t = 100, loss = 1.0793\n",
            "t = 200, loss = 1.3865\n",
            "t = 300, loss = 1.5247\n",
            "t = 400, loss = 1.4288\n",
            "t = 500, loss = 1.1074\n",
            "t = 600, loss = 1.0352\n",
            "t = 700, loss = 1.5327\n",
            "Starting epoch 17 / 50\n",
            "t = 100, loss = 1.4036\n",
            "t = 200, loss = 1.3390\n",
            "t = 300, loss = 1.4057\n",
            "t = 400, loss = 1.3482\n",
            "t = 500, loss = 1.6930\n",
            "t = 600, loss = 1.2010\n",
            "t = 700, loss = 1.2923\n",
            "Starting epoch 18 / 50\n",
            "t = 100, loss = 1.0116\n",
            "t = 200, loss = 1.2710\n",
            "t = 300, loss = 1.1476\n",
            "t = 400, loss = 0.9858\n",
            "t = 500, loss = 1.1404\n",
            "t = 600, loss = 1.1888\n",
            "t = 700, loss = 1.4037\n",
            "Starting epoch 19 / 50\n",
            "t = 100, loss = 1.0996\n",
            "t = 200, loss = 1.0895\n",
            "t = 300, loss = 1.0993\n",
            "t = 400, loss = 1.0551\n",
            "t = 500, loss = 0.9791\n",
            "t = 600, loss = 1.1550\n",
            "t = 700, loss = 1.5420\n",
            "Starting epoch 20 / 50\n",
            "t = 100, loss = 1.1997\n",
            "t = 200, loss = 1.1480\n",
            "t = 300, loss = 1.1664\n",
            "t = 400, loss = 1.0671\n",
            "t = 500, loss = 0.7933\n",
            "t = 600, loss = 1.3159\n",
            "t = 700, loss = 1.2301\n",
            "Starting epoch 21 / 50\n",
            "t = 100, loss = 0.9863\n",
            "t = 200, loss = 1.2779\n",
            "t = 300, loss = 1.3362\n",
            "t = 400, loss = 1.0911\n",
            "t = 500, loss = 0.9791\n",
            "t = 600, loss = 1.1528\n",
            "t = 700, loss = 1.4178\n",
            "Starting epoch 22 / 50\n",
            "t = 100, loss = 0.8966\n",
            "t = 200, loss = 1.2424\n",
            "t = 300, loss = 1.2910\n",
            "t = 400, loss = 1.1434\n",
            "t = 500, loss = 1.0241\n",
            "t = 600, loss = 1.0129\n",
            "t = 700, loss = 1.3051\n",
            "Starting epoch 23 / 50\n",
            "t = 100, loss = 1.0334\n",
            "t = 200, loss = 1.0754\n",
            "t = 300, loss = 1.1762\n",
            "t = 400, loss = 0.9379\n",
            "t = 500, loss = 0.9702\n",
            "t = 600, loss = 1.2905\n",
            "t = 700, loss = 1.1028\n",
            "Starting epoch 24 / 50\n",
            "t = 100, loss = 1.0815\n",
            "t = 200, loss = 0.9999\n",
            "t = 300, loss = 1.0301\n",
            "t = 400, loss = 1.0236\n",
            "t = 500, loss = 0.9739\n",
            "t = 600, loss = 1.0883\n",
            "t = 700, loss = 1.0208\n",
            "Starting epoch 25 / 50\n",
            "t = 100, loss = 1.0491\n",
            "t = 200, loss = 1.0794\n",
            "t = 300, loss = 1.1838\n",
            "t = 400, loss = 1.2181\n",
            "t = 500, loss = 0.9737\n",
            "t = 600, loss = 1.0181\n",
            "t = 700, loss = 1.0708\n",
            "Starting epoch 26 / 50\n",
            "t = 100, loss = 0.8138\n",
            "t = 200, loss = 1.1379\n",
            "t = 300, loss = 1.1329\n",
            "t = 400, loss = 0.8483\n",
            "t = 500, loss = 0.6648\n",
            "t = 600, loss = 0.7402\n",
            "t = 700, loss = 1.2079\n",
            "Starting epoch 27 / 50\n",
            "t = 100, loss = 0.9524\n",
            "t = 200, loss = 1.1210\n",
            "t = 300, loss = 1.1944\n",
            "t = 400, loss = 0.9328\n",
            "t = 500, loss = 0.7539\n",
            "t = 600, loss = 0.8200\n",
            "t = 700, loss = 1.0785\n",
            "Starting epoch 28 / 50\n",
            "t = 100, loss = 0.7711\n",
            "t = 200, loss = 0.9794\n",
            "t = 300, loss = 1.0434\n",
            "t = 400, loss = 0.8927\n",
            "t = 500, loss = 0.7373\n",
            "t = 600, loss = 1.0463\n",
            "t = 700, loss = 0.9477\n",
            "Starting epoch 29 / 50\n",
            "t = 100, loss = 0.7209\n",
            "t = 200, loss = 0.9095\n",
            "t = 300, loss = 0.9860\n",
            "t = 400, loss = 0.8185\n",
            "t = 500, loss = 0.7947\n",
            "t = 600, loss = 1.0353\n",
            "t = 700, loss = 1.2511\n",
            "Starting epoch 30 / 50\n",
            "t = 100, loss = 0.7287\n",
            "t = 200, loss = 0.8047\n",
            "t = 300, loss = 1.2258\n",
            "t = 400, loss = 0.9694\n",
            "t = 500, loss = 0.7264\n",
            "t = 600, loss = 0.7632\n",
            "t = 700, loss = 1.2043\n",
            "Starting epoch 31 / 50\n",
            "t = 100, loss = 0.6366\n",
            "t = 200, loss = 1.0592\n",
            "t = 300, loss = 1.0397\n",
            "t = 400, loss = 0.7534\n",
            "t = 500, loss = 0.9896\n",
            "t = 600, loss = 1.0081\n",
            "t = 700, loss = 1.0797\n",
            "Starting epoch 32 / 50\n",
            "t = 100, loss = 0.6908\n",
            "t = 200, loss = 1.0875\n",
            "t = 300, loss = 1.3424\n",
            "t = 400, loss = 0.9403\n",
            "t = 500, loss = 0.7390\n",
            "t = 600, loss = 0.7433\n",
            "t = 700, loss = 0.9497\n",
            "Starting epoch 33 / 50\n",
            "t = 100, loss = 0.7736\n",
            "t = 200, loss = 1.0409\n",
            "t = 300, loss = 1.0580\n",
            "t = 400, loss = 0.7485\n",
            "t = 500, loss = 0.6344\n",
            "t = 600, loss = 0.8091\n",
            "t = 700, loss = 0.9216\n",
            "Starting epoch 34 / 50\n",
            "t = 100, loss = 0.7316\n",
            "t = 200, loss = 0.9422\n",
            "t = 300, loss = 0.9789\n",
            "t = 400, loss = 0.9066\n",
            "t = 500, loss = 0.7004\n",
            "t = 600, loss = 0.8584\n",
            "t = 700, loss = 0.9902\n",
            "Starting epoch 35 / 50\n",
            "t = 100, loss = 0.6894\n",
            "t = 200, loss = 0.7376\n",
            "t = 300, loss = 1.3238\n",
            "t = 400, loss = 0.7488\n",
            "t = 500, loss = 0.6073\n",
            "t = 600, loss = 0.8285\n",
            "t = 700, loss = 0.9356\n",
            "Starting epoch 36 / 50\n",
            "t = 100, loss = 1.0163\n",
            "t = 200, loss = 0.9081\n",
            "t = 300, loss = 0.9172\n",
            "t = 400, loss = 0.8479\n",
            "t = 500, loss = 0.5987\n",
            "t = 600, loss = 0.7470\n",
            "t = 700, loss = 1.0039\n",
            "Starting epoch 37 / 50\n",
            "t = 100, loss = 0.6647\n",
            "t = 200, loss = 1.0127\n",
            "t = 300, loss = 0.8851\n",
            "t = 400, loss = 0.9158\n",
            "t = 500, loss = 0.7502\n",
            "t = 600, loss = 0.9186\n",
            "t = 700, loss = 0.8735\n",
            "Starting epoch 38 / 50\n",
            "t = 100, loss = 0.6893\n",
            "t = 200, loss = 0.9047\n",
            "t = 300, loss = 0.9082\n",
            "t = 400, loss = 0.9230\n",
            "t = 500, loss = 0.6766\n",
            "t = 600, loss = 0.9411\n",
            "t = 700, loss = 0.7015\n",
            "Starting epoch 39 / 50\n",
            "t = 100, loss = 0.7532\n",
            "t = 200, loss = 0.8338\n",
            "t = 300, loss = 0.7577\n",
            "t = 400, loss = 0.7300\n",
            "t = 500, loss = 0.6465\n",
            "t = 600, loss = 0.8926\n",
            "t = 700, loss = 0.8460\n",
            "Starting epoch 40 / 50\n",
            "t = 100, loss = 0.7609\n",
            "t = 200, loss = 0.9588\n",
            "t = 300, loss = 1.2422\n",
            "t = 400, loss = 0.7091\n",
            "t = 500, loss = 0.6859\n",
            "t = 600, loss = 0.7971\n",
            "t = 700, loss = 0.9846\n",
            "Starting epoch 41 / 50\n",
            "t = 100, loss = 0.5798\n",
            "t = 200, loss = 0.9105\n",
            "t = 300, loss = 1.1344\n",
            "t = 400, loss = 0.5932\n",
            "t = 500, loss = 0.6235\n",
            "t = 600, loss = 0.9625\n",
            "t = 700, loss = 0.8601\n",
            "Starting epoch 42 / 50\n",
            "t = 100, loss = 0.8161\n",
            "t = 200, loss = 0.8902\n",
            "t = 300, loss = 0.8506\n",
            "t = 400, loss = 0.6499\n",
            "t = 500, loss = 0.6746\n",
            "t = 600, loss = 0.9214\n",
            "t = 700, loss = 0.8665\n",
            "Starting epoch 43 / 50\n",
            "t = 100, loss = 0.6122\n",
            "t = 200, loss = 0.8359\n",
            "t = 300, loss = 0.8424\n",
            "t = 400, loss = 0.9094\n",
            "t = 500, loss = 0.5795\n",
            "t = 600, loss = 0.8856\n",
            "t = 700, loss = 0.7741\n",
            "Starting epoch 44 / 50\n",
            "t = 100, loss = 0.5923\n",
            "t = 200, loss = 0.7956\n",
            "t = 300, loss = 0.7678\n",
            "t = 400, loss = 0.8131\n",
            "t = 500, loss = 0.6492\n",
            "t = 600, loss = 0.8203\n",
            "t = 700, loss = 0.8289\n",
            "Starting epoch 45 / 50\n",
            "t = 100, loss = 0.7606\n",
            "t = 200, loss = 0.7920\n",
            "t = 300, loss = 0.7485\n",
            "t = 400, loss = 0.7014\n",
            "t = 500, loss = 0.6005\n",
            "t = 600, loss = 0.8704\n",
            "t = 700, loss = 0.9807\n",
            "Starting epoch 46 / 50\n",
            "t = 100, loss = 0.7625\n",
            "t = 200, loss = 0.8807\n",
            "t = 300, loss = 1.0477\n",
            "t = 400, loss = 0.6131\n",
            "t = 500, loss = 0.5105\n",
            "t = 600, loss = 0.6018\n",
            "t = 700, loss = 0.8455\n",
            "Starting epoch 47 / 50\n",
            "t = 100, loss = 0.5998\n",
            "t = 200, loss = 0.9063\n",
            "t = 300, loss = 0.8405\n",
            "t = 400, loss = 0.7462\n",
            "t = 500, loss = 0.7250\n",
            "t = 600, loss = 0.8193\n",
            "t = 700, loss = 0.8306\n",
            "Starting epoch 48 / 50\n",
            "t = 100, loss = 0.5056\n",
            "t = 200, loss = 0.8774\n",
            "t = 300, loss = 0.7737\n",
            "t = 400, loss = 0.7117\n",
            "t = 500, loss = 0.7240\n",
            "t = 600, loss = 0.5627\n",
            "t = 700, loss = 0.6819\n",
            "Starting epoch 49 / 50\n",
            "t = 100, loss = 0.6096\n",
            "t = 200, loss = 0.7806\n",
            "t = 300, loss = 0.9729\n",
            "t = 400, loss = 0.6016\n",
            "t = 500, loss = 0.4645\n",
            "t = 600, loss = 0.8950\n",
            "t = 700, loss = 0.6752\n",
            "Starting epoch 50 / 50\n",
            "t = 100, loss = 0.6501\n",
            "t = 200, loss = 0.8275\n",
            "t = 300, loss = 0.8184\n",
            "t = 400, loss = 0.6379\n",
            "t = 500, loss = 0.6455\n",
            "t = 600, loss = 0.6857\n",
            "t = 700, loss = 0.8250\n",
            "Checking accuracy on validation set\n",
            "Got 703 / 1000 correct (70.30)\n"
          ],
          "name": "stdout"
        },
        {
          "output_type": "stream",
          "text": [
            "/usr/local/lib/python3.7/dist-packages/ipykernel_launcher.py:28: UserWarning: volatile was removed and now has no effect. Use `with torch.no_grad():` instead.\n"
          ],
          "name": "stderr"
        }
      ]
    },
    {
      "cell_type": "code",
      "metadata": {
        "id": "3beKaQSr9Z2k"
      },
      "source": [
        ""
      ],
      "execution_count": null,
      "outputs": []
    },
    {
      "cell_type": "code",
      "metadata": {
        "id": "KZH79BSR9mlL"
      },
      "source": [
        "# Train your model here, and make sure the output of the cell after this cell is the accuracy of your best model on the \n",
        "# train, val, and test sets. Here's some code to get you started. The output of this cell should be the training\n",
        "# and validation accuracy on your best model (measured by validation accuracy).\n",
        "\n",
        "'''Fill in the model below'''\n",
        "import torch.autograd as autograd\n",
        "\n",
        "class TextClassificationModel(nn.Module):\n",
        "    \n",
        "    def __init__(self, vocab_size, embed_dim, num_class):\n",
        "        super(TextClassificationModel, self).__init__()\n",
        "        self.embedding = nn.EmbeddingBag(vocab_size, embed_dim, sparse=True)\n",
        "        self.fc = nn.Linear(embed_dim, num_class)\n",
        "        \n",
        "    def forward(self, text, offsets):\n",
        "        embedded = self.embedding(text, offsets)\n",
        "        return self.fc(embedded)"
      ],
      "execution_count": null,
      "outputs": []
    },
    {
      "cell_type": "code",
      "metadata": {
        "colab": {
          "base_uri": "https://localhost:8080/"
        },
        "id": "-f_DW9lS9siD",
        "outputId": "b2f5db0f-a891-44fd-ba51-cc5ed0e61400"
      },
      "source": [
        "num_class = len(set([label for (label, text) in train_dataset]))\n",
        "vocab_size = len(vocab)\n",
        "emsize = 64\n",
        "\n",
        "EPOCHS = 15 # epoch\n",
        "LR = 5  # learning rate\n",
        "model = TextClassificationModel(vocab_size, emsize, num_class).to(torch.device('cuda'))\n",
        "criterion = torch.nn.CrossEntropyLoss()\n",
        "optimizer = torch.optim.SGD(model.parameters(), lr=LR)\n",
        "scheduler = torch.optim.lr_scheduler.StepLR(optimizer, 1.0, gamma=0.1)\n",
        "total_accu = None\n",
        "\n",
        "for epoch in range(1, EPOCHS + 1):\n",
        "    epoch_start_time = time.time()\n",
        "    train(model, dataloader_train)\n",
        "    accu_val = evaluate(model, dataloader_valid)\n",
        "    if total_accu is not None and total_accu > accu_val:\n",
        "        scheduler.step()\n",
        "    else:\n",
        "        total_accu = accu_val\n",
        "    print('-' * 59)\n",
        "    print('| end of epoch {:3d} | time: {:5.2f}s | '\n",
        "          'valid accuracy {:8.3f} '.format(epoch,\n",
        "                                           time.time() - epoch_start_time,\n",
        "                                           accu_val))\n",
        "    print('-' * 59)"
      ],
      "execution_count": null,
      "outputs": [
        {
          "output_type": "stream",
          "text": [
            "| epoch   1 |   500/ 1782 batches | accuracy    0.576\n",
            "| epoch   1 |  1000/ 1782 batches | accuracy    0.743\n",
            "| epoch   1 |  1500/ 1782 batches | accuracy    0.793\n",
            "-----------------------------------------------------------\n",
            "| end of epoch   1 | time:  8.73s | valid accuracy    0.827 \n",
            "-----------------------------------------------------------\n",
            "| epoch   2 |   500/ 1782 batches | accuracy    0.836\n",
            "| epoch   2 |  1000/ 1782 batches | accuracy    0.847\n",
            "| epoch   2 |  1500/ 1782 batches | accuracy    0.856\n",
            "-----------------------------------------------------------\n",
            "| end of epoch   2 | time:  8.68s | valid accuracy    0.866 \n",
            "-----------------------------------------------------------\n",
            "| epoch   3 |   500/ 1782 batches | accuracy    0.870\n",
            "| epoch   3 |  1000/ 1782 batches | accuracy    0.877\n",
            "| epoch   3 |  1500/ 1782 batches | accuracy    0.878\n",
            "-----------------------------------------------------------\n",
            "| end of epoch   3 | time:  8.64s | valid accuracy    0.874 \n",
            "-----------------------------------------------------------\n",
            "| epoch   4 |   500/ 1782 batches | accuracy    0.885\n",
            "| epoch   4 |  1000/ 1782 batches | accuracy    0.889\n",
            "| epoch   4 |  1500/ 1782 batches | accuracy    0.890\n",
            "-----------------------------------------------------------\n",
            "| end of epoch   4 | time:  8.71s | valid accuracy    0.882 \n",
            "-----------------------------------------------------------\n",
            "| epoch   5 |   500/ 1782 batches | accuracy    0.897\n",
            "| epoch   5 |  1000/ 1782 batches | accuracy    0.896\n",
            "| epoch   5 |  1500/ 1782 batches | accuracy    0.899\n",
            "-----------------------------------------------------------\n",
            "| end of epoch   5 | time:  8.67s | valid accuracy    0.890 \n",
            "-----------------------------------------------------------\n",
            "| epoch   6 |   500/ 1782 batches | accuracy    0.905\n",
            "| epoch   6 |  1000/ 1782 batches | accuracy    0.906\n",
            "| epoch   6 |  1500/ 1782 batches | accuracy    0.904\n",
            "-----------------------------------------------------------\n",
            "| end of epoch   6 | time:  8.66s | valid accuracy    0.893 \n",
            "-----------------------------------------------------------\n",
            "| epoch   7 |   500/ 1782 batches | accuracy    0.910\n",
            "| epoch   7 |  1000/ 1782 batches | accuracy    0.911\n",
            "| epoch   7 |  1500/ 1782 batches | accuracy    0.911\n",
            "-----------------------------------------------------------\n",
            "| end of epoch   7 | time:  8.65s | valid accuracy    0.896 \n",
            "-----------------------------------------------------------\n",
            "| epoch   8 |   500/ 1782 batches | accuracy    0.915\n",
            "| epoch   8 |  1000/ 1782 batches | accuracy    0.913\n",
            "| epoch   8 |  1500/ 1782 batches | accuracy    0.915\n",
            "-----------------------------------------------------------\n",
            "| end of epoch   8 | time:  8.69s | valid accuracy    0.891 \n",
            "-----------------------------------------------------------\n",
            "| epoch   9 |   500/ 1782 batches | accuracy    0.922\n",
            "| epoch   9 |  1000/ 1782 batches | accuracy    0.923\n",
            "| epoch   9 |  1500/ 1782 batches | accuracy    0.923\n",
            "-----------------------------------------------------------\n",
            "| end of epoch   9 | time:  8.66s | valid accuracy    0.898 \n",
            "-----------------------------------------------------------\n",
            "| epoch  10 |   500/ 1782 batches | accuracy    0.924\n",
            "| epoch  10 |  1000/ 1782 batches | accuracy    0.924\n",
            "| epoch  10 |  1500/ 1782 batches | accuracy    0.925\n",
            "-----------------------------------------------------------\n",
            "| end of epoch  10 | time:  8.66s | valid accuracy    0.897 \n",
            "-----------------------------------------------------------\n",
            "| epoch  11 |   500/ 1782 batches | accuracy    0.926\n",
            "| epoch  11 |  1000/ 1782 batches | accuracy    0.924\n",
            "| epoch  11 |  1500/ 1782 batches | accuracy    0.925\n",
            "-----------------------------------------------------------\n",
            "| end of epoch  11 | time:  8.64s | valid accuracy    0.896 \n",
            "-----------------------------------------------------------\n",
            "| epoch  12 |   500/ 1782 batches | accuracy    0.924\n",
            "| epoch  12 |  1000/ 1782 batches | accuracy    0.927\n",
            "| epoch  12 |  1500/ 1782 batches | accuracy    0.924\n",
            "-----------------------------------------------------------\n",
            "| end of epoch  12 | time:  8.71s | valid accuracy    0.896 \n",
            "-----------------------------------------------------------\n",
            "| epoch  13 |   500/ 1782 batches | accuracy    0.925\n",
            "| epoch  13 |  1000/ 1782 batches | accuracy    0.926\n",
            "| epoch  13 |  1500/ 1782 batches | accuracy    0.925\n",
            "-----------------------------------------------------------\n",
            "| end of epoch  13 | time:  8.66s | valid accuracy    0.896 \n",
            "-----------------------------------------------------------\n",
            "| epoch  14 |   500/ 1782 batches | accuracy    0.926\n",
            "| epoch  14 |  1000/ 1782 batches | accuracy    0.926\n",
            "| epoch  14 |  1500/ 1782 batches | accuracy    0.925\n",
            "-----------------------------------------------------------\n",
            "| end of epoch  14 | time:  8.67s | valid accuracy    0.896 \n",
            "-----------------------------------------------------------\n",
            "| epoch  15 |   500/ 1782 batches | accuracy    0.925\n",
            "| epoch  15 |  1000/ 1782 batches | accuracy    0.926\n",
            "| epoch  15 |  1500/ 1782 batches | accuracy    0.925\n",
            "-----------------------------------------------------------\n",
            "| end of epoch  15 | time:  8.73s | valid accuracy    0.896 \n",
            "-----------------------------------------------------------\n"
          ],
          "name": "stdout"
        }
      ]
    },
    {
      "cell_type": "code",
      "metadata": {
        "id": "WeGvPJvP9Zni"
      },
      "source": [
        ""
      ],
      "execution_count": null,
      "outputs": []
    },
    {
      "cell_type": "code",
      "metadata": {
        "deletable": false,
        "editable": false,
        "nbgrader": {
          "cell_type": "code",
          "checksum": "5ea81a50c15235278a2116dc822f1164",
          "grade": true,
          "grade_id": "40jw8i6bhet",
          "locked": true,
          "points": 1,
          "schema_version": 3,
          "solution": false,
          "task": false
        },
        "id": "VX-7hGg33mG-"
      },
      "source": [
        ""
      ],
      "execution_count": null,
      "outputs": []
    },
    {
      "cell_type": "code",
      "metadata": {
        "deletable": false,
        "editable": false,
        "nbgrader": {
          "cell_type": "code",
          "checksum": "d14587c435a50f01463631b12e31737a",
          "grade": true,
          "grade_id": "4890jweihsbm0e",
          "locked": true,
          "points": 1,
          "schema_version": 3,
          "solution": false,
          "task": false
        },
        "id": "q_FA-zAN3mG-"
      },
      "source": [
        ""
      ],
      "execution_count": null,
      "outputs": []
    },
    {
      "cell_type": "code",
      "metadata": {
        "deletable": false,
        "editable": false,
        "nbgrader": {
          "cell_type": "code",
          "checksum": "4558c2356f66e7986e2fc62dc4170e0e",
          "grade": true,
          "grade_id": "9nhei3oru4tb5",
          "locked": true,
          "points": 2,
          "schema_version": 3,
          "solution": false,
          "task": false
        },
        "id": "TAs7psAe3mG-"
      },
      "source": [
        ""
      ],
      "execution_count": null,
      "outputs": []
    },
    {
      "cell_type": "code",
      "metadata": {
        "deletable": false,
        "editable": false,
        "nbgrader": {
          "cell_type": "code",
          "checksum": "a8e8c8a0ee8a1b1050cfb1b6269842e4",
          "grade": true,
          "grade_id": "930hqneor5rjhuwy6",
          "locked": true,
          "points": 2,
          "schema_version": 3,
          "solution": false,
          "task": false
        },
        "id": "Fwb1Sr5W3mG-"
      },
      "source": [
        ""
      ],
      "execution_count": null,
      "outputs": []
    },
    {
      "cell_type": "code",
      "metadata": {
        "deletable": false,
        "editable": false,
        "nbgrader": {
          "cell_type": "code",
          "checksum": "1349d821672cf44e0dd3530911406dae",
          "grade": true,
          "grade_id": "j890i3q4gr5h46trejhu",
          "locked": true,
          "points": 2,
          "schema_version": 3,
          "solution": false,
          "task": false
        },
        "id": "PpVMxahV3mG-"
      },
      "source": [
        ""
      ],
      "execution_count": null,
      "outputs": []
    },
    {
      "cell_type": "code",
      "metadata": {
        "deletable": false,
        "editable": false,
        "nbgrader": {
          "cell_type": "code",
          "checksum": "bf7959ca7e1c3185f3ab33f0f70c78df",
          "grade": true,
          "grade_id": "89ji3woru4hy98djeirou",
          "locked": true,
          "points": 5,
          "schema_version": 3,
          "solution": false,
          "task": false
        },
        "id": "0mjnqvRx3mG-"
      },
      "source": [
        ""
      ],
      "execution_count": null,
      "outputs": []
    },
    {
      "cell_type": "code",
      "metadata": {
        "deletable": false,
        "editable": false,
        "nbgrader": {
          "cell_type": "code",
          "checksum": "8f8747474df44cd7e166436435a32d10",
          "grade": true,
          "grade_id": "uih389eorw5ngyuio9k",
          "locked": true,
          "points": 5,
          "schema_version": 3,
          "solution": false,
          "task": false
        },
        "id": "_PNZBFeR3mG_"
      },
      "source": [
        ""
      ],
      "execution_count": null,
      "outputs": []
    }
  ]
}